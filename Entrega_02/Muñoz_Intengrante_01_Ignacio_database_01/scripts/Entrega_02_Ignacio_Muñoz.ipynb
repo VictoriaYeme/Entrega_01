{
  "nbformat": 4,
  "nbformat_minor": 0,
  "metadata": {
    "colab": {
      "provenance": []
    },
    "kernelspec": {
      "name": "python3",
      "display_name": "Python 3"
    },
    "language_info": {
      "name": "python"
    }
  },
  "cells": [
    {
      "cell_type": "markdown",
      "source": [
        "#**Base de datos sobre contaminación y sustentabilidad en la industria vitivinicola**\n"
      ],
      "metadata": {
        "id": "RF-DJl0uyfYT"
      }
    },
    {
      "cell_type": "markdown",
      "source": [
        "###Hipotesis: \"La producción sustentable de vino en Chile está logrando posicionarse por sobre el tradicional como el principal método de producción.\""
      ],
      "metadata": {
        "id": "t7tC_Lvjoht6"
      }
    },
    {
      "cell_type": "markdown",
      "source": [
        "###La transformación de la industria vitivinícola a una producción de vino sustentable a sido la respuesta a un mundo que ya no acepta industrias que contaminan y tienen una alta huella de carbono.\n",
        "\n",
        "##Las siguientes bases de datos, reflejan cómo la industria vitivinícola en Chile, a logrado ser más sustentable y menos contaminante.\n",
        "\n",
        "##Para poder comprender los graficos, es requisito primero entender el concepto de Huella Hídrica. La Huella Hídrica es un indicador de sostenibilidad ambiental, que mide el consumo final del agua que se utiliza para fabricar un bien o servicio. En el caso del vino, ultimamente las viñas han estado utlizando este concepto para poder medir su sosteniblidad ambiental.\n",
        "\n",
        "##En el calculo, la Huella Hidrica representa la totalidad del consumo de agua en el proceso. Se separa en tres tipos de huella. La huella azul, que representa el agua de riego. También la huella verde que contabliza el agua de lluvia o nieve aprovechada por las plantas. Y por último, la huella gris, que refiere al volumen de agua contaminada que se obtiene tras llevar a cabo el proceso.\n"
      ],
      "metadata": {
        "id": "i3vJJD5EqReL"
      }
    },
    {
      "cell_type": "markdown",
      "source": [
        "##\"Concha y Toro\" es una viña chilena reconocida a nivel mundial. Ellos han aplicado tecnicas en la producción del vino para dismiuir su huella hidrica, tal como usar un sistema de riego por goteo. Estas son sus estadisticas de consumo de recursos en los últimos años."
      ],
      "metadata": {
        "id": "CpmkpW5fpa5f"
      }
    },
    {
      "cell_type": "markdown",
      "source": [
        "La información que será entregada a continuación es de acuerdo a la página: https://conchaytoro.com/content/uploads/2021/01/VCT_RS2019_VF-1.pdf"
      ],
      "metadata": {
        "id": "dY_cj1M48LQh"
      }
    },
    {
      "cell_type": "markdown",
      "source": [
        "##**Huella Hídrica de una copa de vina (125ml)**"
      ],
      "metadata": {
        "id": "LDtjsm0uBh2q"
      }
    },
    {
      "cell_type": "code",
      "source": [
        "import pandas as pd\n",
        "\n",
        "data = {\n",
        "    'Año': ['2010', '2020', 'Promedio de la industria'],\n",
        "    '/ Huella Hídrica (Litros por copa de vino)': ['72 Lts/copa', '55 Lts/copa', '109 Lts/copa'],\n",
        "    '/ Variación': ['x', '-24%', '+98%']\n",
        "}\n",
        "\n",
        "df = pd.DataFrame(data)\n",
        "\n",
        "print(df)"
      ],
      "metadata": {
        "colab": {
          "base_uri": "https://localhost:8080/"
        },
        "id": "eSh6h7whBYtP",
        "outputId": "a7225230-d5e9-459c-9ea7-da3cdd83fa40"
      },
      "execution_count": null,
      "outputs": [
        {
          "output_type": "stream",
          "name": "stdout",
          "text": [
            "                        Año / Huella Hídrica (Litros por copa de vino)  \\\n",
            "0                      2010                                72 Lts/copa   \n",
            "1                      2020                                55 Lts/copa   \n",
            "2  Promedio de la industria                               109 Lts/copa   \n",
            "\n",
            "  / Variación  \n",
            "0           x  \n",
            "1        -24%  \n",
            "2        +98%  \n"
          ]
        }
      ]
    },
    {
      "cell_type": "markdown",
      "source": [
        "##**Extracción de agua**"
      ],
      "metadata": {
        "id": "NrbW9LpfBdoz"
      }
    },
    {
      "cell_type": "code",
      "source": [
        "import pandas as pd\n",
        "\n",
        "data = {\n",
        "    'Fuente': ['Agua superficial', 'Agua subterránea'],\n",
        "    'Unidad': ['miles m3', 'miles m3'],\n",
        "    '2017': [19346, 12237],\n",
        "    '2018': [21058, 12750],\n",
        "    '2019': [25161, 17220],\n",
        "    'Variación': ['19%', '35%']\n",
        "}\n",
        "\n",
        "df = pd.DataFrame(data)\n",
        "\n",
        "print(df)"
      ],
      "metadata": {
        "colab": {
          "base_uri": "https://localhost:8080/"
        },
        "id": "PzZPupmE965q",
        "outputId": "78d8a130-4edc-4efe-c893-36c1dbd91b42"
      },
      "execution_count": null,
      "outputs": [
        {
          "output_type": "stream",
          "name": "stdout",
          "text": [
            "             Fuente    Unidad   2017   2018   2019 Variación\n",
            "0  Agua superficial  miles m3  19346  21058  25161       19%\n",
            "1  Agua subterránea  miles m3  12237  12750  17220       35%\n"
          ]
        }
      ]
    },
    {
      "cell_type": "markdown",
      "source": [
        "##**Extracción de agua en zonas de estrés hídrico**"
      ],
      "metadata": {
        "id": "sxRZKq-VjuFR"
      }
    },
    {
      "cell_type": "code",
      "source": [
        "import pandas as pd\n",
        "\n",
        "data = {\n",
        "    'Fuente': ['Agua superficial', 'Agua subterránea', 'Agua Municipal'],\n",
        "    'Unidad': ['miles m3', 'miles m3', 'miles m3'],\n",
        "    '2017': [11480, 8817, 85],\n",
        "    '2018': [12903, 9107, 93],\n",
        "    '2019': [25017, 15867, 104],\n",
        "    'Variación': ['94%', '74%', '11%']\n",
        "}\n",
        "\n",
        "df = pd.DataFrame(data)\n",
        "\n",
        "print(df)"
      ],
      "metadata": {
        "colab": {
          "base_uri": "https://localhost:8080/"
        },
        "id": "1sH-7WKT1V5c",
        "outputId": "631ffe62-29bc-4100-dbc5-47912e6b826a"
      },
      "execution_count": null,
      "outputs": [
        {
          "output_type": "stream",
          "name": "stdout",
          "text": [
            "             Fuente    Unidad   2017   2018   2019 Variación\n",
            "0  Agua superficial  miles m3  11480  12903  25017       94%\n",
            "1  Agua subterránea  miles m3   8817   9107  15867       74%\n",
            "2    Agua Municipal  miles m3     85     93    104       11%\n"
          ]
        }
      ]
    },
    {
      "cell_type": "markdown",
      "source": [
        "##**Consumo de agua**\n",
        "\n",
        "```\n",
        "# Tiene formato de código\n",
        "```\n",
        "\n"
      ],
      "metadata": {
        "id": "XZBJP9mBlWZU"
      }
    },
    {
      "cell_type": "code",
      "source": [
        "import pandas as pd\n",
        "\n",
        "data = {\n",
        "    'Fuente': ['Agua superficial', 'Agua subterránea', 'Agua Municipal', 'Consumo total'],\n",
        "    'Unidad': ['miles m3', 'miles m3', 'miles m3', 'miles m3'],\n",
        "    '2017': [12749, 4237, 7, 16993],\n",
        "    '2018': [14533, 4624, 8, 19165],\n",
        "    '2019': [19359, 6409, 11, 25779],\n",
        "    'Variación': ['33%', '39%', '44%', '']\n",
        "}\n",
        "\n",
        "data['Variación'][3] = f\"{((data['2019'][3] - data['2017'][3]) / data['2017'][3]) * 100:.2f}%\"\n",
        "\n",
        "df = pd.DataFrame(data)\n",
        "\n",
        "print(df)"
      ],
      "metadata": {
        "colab": {
          "base_uri": "https://localhost:8080/"
        },
        "id": "iW5gnkIk1wTl",
        "outputId": "49a1fe2f-c9b3-4d12-d031-227b14bac4f7"
      },
      "execution_count": null,
      "outputs": [
        {
          "output_type": "stream",
          "name": "stdout",
          "text": [
            "             Fuente    Unidad   2017   2018   2019 Variación\n",
            "0  Agua superficial  miles m3  12749  14533  19359       33%\n",
            "1  Agua subterránea  miles m3   4237   4624   6409       39%\n",
            "2    Agua Municipal  miles m3      7      8     11       44%\n",
            "3     Consumo total  miles m3  16993  19165  25779    51.70%\n"
          ]
        }
      ]
    },
    {
      "cell_type": "markdown",
      "source": [
        "##**Consumo de agua en zonas de estrés hídrico**"
      ],
      "metadata": {
        "id": "8EZNllX52Xcd"
      }
    },
    {
      "cell_type": "code",
      "source": [
        "import pandas as pd\n",
        "\n",
        "data = {\n",
        "    'Fuente': ['Agua superficial', 'Agua subterránea', 'Agua Municipal', 'Consumo total'],\n",
        "    'Unidad': ['miles m3', 'miles m3', 'miles m3', 'Mega Lts'],\n",
        "    '2017': [6747, 2758, 6, 9511],\n",
        "    '2018': [7598, 3021, 7, 10627],\n",
        "    '2019': [19359, 6409, 11, 25779],\n",
        "    'Variación': ['155%', '112%', '57%', '']\n",
        "}\n",
        "\n",
        "data['Variación'][3] = f\"{((data['2019'][3] - data['2017'][3]) / data['2017'][3]) * 100:.2f}%\"\n",
        "\n",
        "df = pd.DataFrame(data)\n",
        "\n",
        "print(df)"
      ],
      "metadata": {
        "colab": {
          "base_uri": "https://localhost:8080/"
        },
        "id": "efdTj0Ca2gH3",
        "outputId": "6d98729f-4971-400c-ca39-41e77cccd11d"
      },
      "execution_count": null,
      "outputs": [
        {
          "output_type": "stream",
          "name": "stdout",
          "text": [
            "             Fuente    Unidad  2017   2018   2019 Variación\n",
            "0  Agua superficial  miles m3  6747   7598  19359      155%\n",
            "1  Agua subterránea  miles m3  2758   3021   6409      112%\n",
            "2    Agua Municipal  miles m3     6      7     11       57%\n",
            "3     Consumo total  Mega Lts  9511  10627  25779   171.04%\n"
          ]
        }
      ]
    },
    {
      "cell_type": "markdown",
      "source": [
        "##**Descarga de agua por calidad**"
      ],
      "metadata": {
        "id": "aEJrSIOQ3I-J"
      }
    },
    {
      "cell_type": "code",
      "source": [
        "import pandas as pd\n",
        "\n",
        "data = {\n",
        "    'Calidad': ['DBO (Carga Total)', 'DQO (Carga Total)'],\n",
        "    'Unidad': ['ton', 'ton'],\n",
        "    '2017': [853, 1422],\n",
        "    '2018': [641, 1068],\n",
        "    '2019': [614, 417],\n",
        "    'Variación': ['-4.2%', '-60.9%']\n",
        "}\n",
        "\n",
        "df = pd.DataFrame(data)\n",
        "\n",
        "print(df)"
      ],
      "metadata": {
        "colab": {
          "base_uri": "https://localhost:8080/"
        },
        "id": "5zQywjEy3c3X",
        "outputId": "aca90649-41d4-4a68-ad84-b707d488ded3"
      },
      "execution_count": null,
      "outputs": [
        {
          "output_type": "stream",
          "name": "stdout",
          "text": [
            "             Calidad Unidad  2017  2018  2019 Variación\n",
            "0  DBO (Carga Total)    ton   853   641   614     -4.2%\n",
            "1  DQO (Carga Total)    ton  1422  1068   417    -60.9%\n"
          ]
        }
      ]
    },
    {
      "cell_type": "markdown",
      "source": [
        "##**Consumo de combustibles**"
      ],
      "metadata": {
        "id": "0lRZxuYg3w0C"
      }
    },
    {
      "cell_type": "code",
      "source": [
        "import pandas as pd\n",
        "\n",
        "data = {\n",
        "    'Unidad': ['Gasolina', 'Diesel', 'GLP', 'Gas Natural'],\n",
        "    '2017': [8249, 30684, 26201, 5297],\n",
        "    '2018': [8144, 34972, 28860, 6056],\n",
        "    '2019': [7304, 32695, 30344, 4565],\n",
        "    'Variación': ['-10.3%', '-6.5%', '5.1%', '-24.6%']\n",
        "}\n",
        "\n",
        "df = pd.DataFrame(data)\n",
        "\n",
        "print(df)"
      ],
      "metadata": {
        "colab": {
          "base_uri": "https://localhost:8080/"
        },
        "id": "29NLfsYH4DU1",
        "outputId": "0d237a8a-84f3-40c7-9989-43c5706a3d1a"
      },
      "execution_count": null,
      "outputs": [
        {
          "output_type": "stream",
          "name": "stdout",
          "text": [
            "        Unidad   2017   2018   2019 Variación\n",
            "0     Gasolina   8249   8144   7304    -10.3%\n",
            "1       Diesel  30684  34972  32695     -6.5%\n",
            "2          GLP  26201  28860  30344      5.1%\n",
            "3  Gas Natural   5297   6056   4565    -24.6%\n"
          ]
        }
      ]
    }
  ]
}