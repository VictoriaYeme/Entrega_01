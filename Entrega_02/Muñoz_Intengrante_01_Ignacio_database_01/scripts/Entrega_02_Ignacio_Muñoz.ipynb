{
  "cells": [
    {
      "cell_type": "markdown",
      "metadata": {
        "id": "RF-DJl0uyfYT"
      },
      "source": [
        "#**Base de datos sobre contaminación y sustentabilidad en la industria vitivinicola**\n"
      ]
    },
    {
      "cell_type": "markdown",
      "metadata": {
        "id": "t7tC_Lvjoht6"
      },
      "source": [
        "###Hipotesis: \"La producción sustentable de vino en Chile está logrando posicionarse por sobre el tradicional como el principal método de producción.\""
      ]
    },
    {
      "cell_type": "markdown",
      "metadata": {
        "id": "i3vJJD5EqReL"
      },
      "source": [
        "###La transformación de la industria vitivinícola a una producción de vino sustentable a sido la respuesta a un mundo que ya no acepta industrias que contaminan y tienen una alta huella de carbono.\n",
        "\n",
        "##Las siguientes bases de datos, reflejan cómo la industria vitivinícola en Chile, a logrado ser más sustentable y menos contaminante.\n",
        "\n",
        "##Para poder comprender los graficos, es requisito primero entender el concepto de Huella Hídrica. La Huella Hídrica es un indicador de sostenibilidad ambiental, que mide el consumo final del agua que se utiliza para fabricar un bien o servicio. En el caso del vino, ultimamente las viñas han estado utlizando este concepto para poder medir su sosteniblidad ambiental.\n",
        "\n",
        "##En el calculo, la Huella Hidrica representa la totalidad del consumo de agua en el proceso. Se separa en tres tipos de huella. La huella azul, que representa el agua de riego. También la huella verde que contabliza el agua de lluvia o nieve aprovechada por las plantas. Y por último, la huella gris, que refiere al volumen de agua contaminada que se obtiene tras llevar a cabo el proceso.\n"
      ]
    },
    {
      "cell_type": "markdown",
      "metadata": {
        "id": "CpmkpW5fpa5f"
      },
      "source": [
        "##\"Concha y Toro\" es una viña chilena reconocida a nivel mundial. Ellos han aplicado tecnicas en la producción del vino para dismiuir su huella hidrica, tal como usar un sistema de riego por goteo. Estas son sus estadisticas de consumo de recursos en los últimos años."
      ]
    },
    {
      "cell_type": "markdown",
      "metadata": {
        "id": "dY_cj1M48LQh"
      },
      "source": [
        "La información que será entregada a continuación es de acuerdo a la página: https://conchaytoro.com/content/uploads/2021/01/VCT_RS2019_VF-1.pdf"
      ]
    },
    {
      "cell_type": "markdown",
      "metadata": {
        "id": "LDtjsm0uBh2q"
      },
      "source": [
        "##**Huella Hídrica de una copa de vina (125ml)**"
      ]
    },
    {
      "cell_type": "code",
      "execution_count": 37,
      "metadata": {
        "colab": {
          "base_uri": "https://localhost:8080/"
        },
        "id": "eSh6h7whBYtP",
        "outputId": "a7225230-d5e9-459c-9ea7-da3cdd83fa40"
      },
      "outputs": [
        {
          "name": "stdout",
          "output_type": "stream",
          "text": [
            "                        Año / Huella Hídrica (Litros por copa de vino)  \\\n",
            "0                      2010                                72 Lts/copa   \n",
            "1                      2020                                55 Lts/copa   \n",
            "2  Promedio de la industria                               109 Lts/copa   \n",
            "\n",
            "  / Variación  \n",
            "0           x  \n",
            "1        -24%  \n",
            "2        +98%  \n"
          ]
        }
      ],
      "source": [
        "import pandas as pd\n",
        "\n",
        "tabla_vino = {\n",
        "    'Año': ['2010', '2020', 'Promedio de la industria'],\n",
        "    '/ Huella Hídrica (Litros por copa de vino)': ['72 Lts/copa', '55 Lts/copa', '109 Lts/copa'],\n",
        "    '/ Variación': ['x', '-24%', '+98%']\n",
        "}\n",
        "\n",
        "df = pd.DataFrame(tabla_vino)\n",
        "\n",
        "print(df)"
      ]
    },
    {
      "cell_type": "code",
      "execution_count": 41,
      "metadata": {},
      "outputs": [],
      "source": [
        "df.to_csv('dataframe1.csv', index=False)"
      ]
    },
    {
      "cell_type": "code",
      "execution_count": 12,
      "metadata": {},
      "outputs": [
        {
          "name": "stdout",
          "output_type": "stream",
          "text": [
            "Requirement already satisfied: pandas in c:\\users\\nacho\\appdata\\local\\packages\\pythonsoftwarefoundation.python.3.11_qbz5n2kfra8p0\\localcache\\local-packages\\python311\\site-packages (2.1.1)\n",
            "Requirement already satisfied: numpy>=1.23.2 in c:\\users\\nacho\\appdata\\local\\packages\\pythonsoftwarefoundation.python.3.11_qbz5n2kfra8p0\\localcache\\local-packages\\python311\\site-packages (from pandas) (1.26.0)\n",
            "Requirement already satisfied: python-dateutil>=2.8.2 in c:\\users\\nacho\\appdata\\local\\packages\\pythonsoftwarefoundation.python.3.11_qbz5n2kfra8p0\\localcache\\local-packages\\python311\\site-packages (from pandas) (2.8.2)\n",
            "Requirement already satisfied: pytz>=2020.1 in c:\\users\\nacho\\appdata\\local\\packages\\pythonsoftwarefoundation.python.3.11_qbz5n2kfra8p0\\localcache\\local-packages\\python311\\site-packages (from pandas) (2023.3.post1)\n",
            "Requirement already satisfied: tzdata>=2022.1 in c:\\users\\nacho\\appdata\\local\\packages\\pythonsoftwarefoundation.python.3.11_qbz5n2kfra8p0\\localcache\\local-packages\\python311\\site-packages (from pandas) (2023.3)\n",
            "Requirement already satisfied: six>=1.5 in c:\\users\\nacho\\appdata\\local\\packages\\pythonsoftwarefoundation.python.3.11_qbz5n2kfra8p0\\localcache\\local-packages\\python311\\site-packages (from python-dateutil>=2.8.2->pandas) (1.16.0)\n",
            "Note: you may need to restart the kernel to use updated packages.\n"
          ]
        }
      ],
      "source": [
        "pip install pandas"
      ]
    },
    {
      "cell_type": "markdown",
      "metadata": {
        "id": "NrbW9LpfBdoz"
      },
      "source": [
        "##**Extracción de agua**"
      ]
    },
    {
      "cell_type": "code",
      "execution_count": 44,
      "metadata": {
        "colab": {
          "base_uri": "https://localhost:8080/"
        },
        "id": "PzZPupmE965q",
        "outputId": "78d8a130-4edc-4efe-c893-36c1dbd91b42"
      },
      "outputs": [
        {
          "name": "stdout",
          "output_type": "stream",
          "text": [
            "             Fuente    Unidad   2017   2018   2019 Variación\n",
            "0  Agua superficial  miles m3  19346  21058  25161       19%\n",
            "1  Agua subterránea  miles m3  12237  12750  17220       35%\n"
          ]
        }
      ],
      "source": [
        "import pandas as pd\n",
        "\n",
        "data2 = {\n",
        "    'Fuente': ['Agua superficial', 'Agua subterránea'],\n",
        "    'Unidad': ['miles m3', 'miles m3'],\n",
        "    '2017': [19346, 12237],\n",
        "    '2018': [21058, 12750],\n",
        "    '2019': [25161, 17220],\n",
        "    'Variación': ['19%', '35%']\n",
        "}\n",
        "\n",
        "df2 = pd.DataFrame(data2)\n",
        "\n",
        "print(df2)"
      ]
    },
    {
      "cell_type": "code",
      "execution_count": 45,
      "metadata": {},
      "outputs": [],
      "source": [
        "df2.to_csv('dataframe2.csv', index=False)"
      ]
    },
    {
      "cell_type": "markdown",
      "metadata": {
        "id": "sxRZKq-VjuFR"
      },
      "source": [
        "##**Extracción de agua en zonas de estrés hídrico**"
      ]
    },
    {
      "cell_type": "code",
      "execution_count": 47,
      "metadata": {
        "colab": {
          "base_uri": "https://localhost:8080/"
        },
        "id": "1sH-7WKT1V5c",
        "outputId": "631ffe62-29bc-4100-dbc5-47912e6b826a"
      },
      "outputs": [
        {
          "name": "stdout",
          "output_type": "stream",
          "text": [
            "             Fuente    Unidad   2017   2018   2019 Variación\n",
            "0  Agua superficial  miles m3  11480  12903  25017       94%\n",
            "1  Agua subterránea  miles m3   8817   9107  15867       74%\n",
            "2    Agua Municipal  miles m3     85     93    104       11%\n"
          ]
        }
      ],
      "source": [
        "import pandas as pd\n",
        "\n",
        "data3 = {\n",
        "    'Fuente': ['Agua superficial', 'Agua subterránea', 'Agua Municipal'],\n",
        "    'Unidad': ['miles m3', 'miles m3', 'miles m3'],\n",
        "    '2017': [11480, 8817, 85],\n",
        "    '2018': [12903, 9107, 93],\n",
        "    '2019': [25017, 15867, 104],\n",
        "    'Variación': ['94%', '74%', '11%']\n",
        "}\n",
        "\n",
        "df3 = pd.DataFrame(data3)\n",
        "\n",
        "print(df3)"
      ]
    },
    {
      "cell_type": "code",
      "execution_count": 48,
      "metadata": {},
      "outputs": [],
      "source": [
        "df3.to_csv('dataframe3.csv', index=False)"
      ]
    },
    {
      "cell_type": "markdown",
      "metadata": {
        "id": "XZBJP9mBlWZU"
      },
      "source": [
        "##**Consumo de agua**\n",
        "\n",
        "```\n",
        "# Tiene formato de código\n",
        "```\n",
        "\n"
      ]
    },
    {
      "cell_type": "code",
      "execution_count": 50,
      "metadata": {
        "colab": {
          "base_uri": "https://localhost:8080/"
        },
        "id": "iW5gnkIk1wTl",
        "outputId": "49a1fe2f-c9b3-4d12-d031-227b14bac4f7"
      },
      "outputs": [
        {
          "name": "stdout",
          "output_type": "stream",
          "text": [
            "             Fuente    Unidad   2017   2018   2019 Variación\n",
            "0  Agua superficial  miles m3  12749  14533  19359       33%\n",
            "1  Agua subterránea  miles m3   4237   4624   6409       39%\n",
            "2    Agua Municipal  miles m3      7      8     11       44%\n",
            "3     Consumo total  miles m3  16993  19165  25779    51.70%\n"
          ]
        }
      ],
      "source": [
        "import pandas as pd\n",
        "\n",
        "data4 = {\n",
        "    'Fuente': ['Agua superficial', 'Agua subterránea', 'Agua Municipal', 'Consumo total'],\n",
        "    'Unidad': ['miles m3', 'miles m3', 'miles m3', 'miles m3'],\n",
        "    '2017': [12749, 4237, 7, 16993],\n",
        "    '2018': [14533, 4624, 8, 19165],\n",
        "    '2019': [19359, 6409, 11, 25779],\n",
        "    'Variación': ['33%', '39%', '44%', '']\n",
        "}\n",
        "\n",
        "data4['Variación'][3] = f\"{((data4['2019'][3] - data4['2017'][3]) / data4['2017'][3]) * 100:.2f}%\"\n",
        "\n",
        "df4 = pd.DataFrame(data4)\n",
        "\n",
        "print(df4)"
      ]
    },
    {
      "cell_type": "code",
      "execution_count": 51,
      "metadata": {},
      "outputs": [],
      "source": [
        "df4.to_csv('dataframe4.csv', index=False)"
      ]
    },
    {
      "cell_type": "markdown",
      "metadata": {
        "id": "8EZNllX52Xcd"
      },
      "source": [
        "##**Consumo de agua en zonas de estrés hídrico**"
      ]
    },
    {
      "cell_type": "code",
      "execution_count": 53,
      "metadata": {
        "colab": {
          "base_uri": "https://localhost:8080/"
        },
        "id": "efdTj0Ca2gH3",
        "outputId": "6d98729f-4971-400c-ca39-41e77cccd11d"
      },
      "outputs": [
        {
          "name": "stdout",
          "output_type": "stream",
          "text": [
            "             Fuente    Unidad  2017   2018   2019 Variación\n",
            "0  Agua superficial  miles m3  6747   7598  19359      155%\n",
            "1  Agua subterránea  miles m3  2758   3021   6409      112%\n",
            "2    Agua Municipal  miles m3     6      7     11       57%\n",
            "3     Consumo total  Mega Lts  9511  10627  25779   171.04%\n"
          ]
        }
      ],
      "source": [
        "import pandas as pd\n",
        "\n",
        "data5 = {\n",
        "    'Fuente': ['Agua superficial', 'Agua subterránea', 'Agua Municipal', 'Consumo total'],\n",
        "    'Unidad': ['miles m3', 'miles m3', 'miles m3', 'Mega Lts'],\n",
        "    '2017': [6747, 2758, 6, 9511],\n",
        "    '2018': [7598, 3021, 7, 10627],\n",
        "    '2019': [19359, 6409, 11, 25779],\n",
        "    'Variación': ['155%', '112%', '57%', '']\n",
        "}\n",
        "\n",
        "data5['Variación'][3] = f\"{((data5['2019'][3] - data5['2017'][3]) / data5['2017'][3]) * 100:.2f}%\"\n",
        "\n",
        "df5 = pd.DataFrame(data5)\n",
        "\n",
        "print(df5)"
      ]
    },
    {
      "cell_type": "code",
      "execution_count": 54,
      "metadata": {},
      "outputs": [],
      "source": [
        "df5.to_csv('dataframe5.csv', index=False)"
      ]
    },
    {
      "cell_type": "markdown",
      "metadata": {
        "id": "0lRZxuYg3w0C"
      },
      "source": [
        "##**Consumo de combustibles**"
      ]
    },
    {
      "cell_type": "code",
      "execution_count": 56,
      "metadata": {
        "colab": {
          "base_uri": "https://localhost:8080/"
        },
        "id": "29NLfsYH4DU1",
        "outputId": "0d237a8a-84f3-40c7-9989-43c5706a3d1a"
      },
      "outputs": [
        {
          "name": "stdout",
          "output_type": "stream",
          "text": [
            "        Unidad   2017   2018   2019 Variación\n",
            "0     Gasolina   8249   8144   7304    -10.3%\n",
            "1       Diesel  30684  34972  32695     -6.5%\n",
            "2          GLP  26201  28860  30344      5.1%\n",
            "3  Gas Natural   5297   6056   4565    -24.6%\n"
          ]
        }
      ],
      "source": [
        "import pandas as pd\n",
        "\n",
        "data7 = {\n",
        "    'Unidad': ['Gasolina', 'Diesel', 'GLP', 'Gas Natural'],\n",
        "    '2017': [8249, 30684, 26201, 5297],\n",
        "    '2018': [8144, 34972, 28860, 6056],\n",
        "    '2019': [7304, 32695, 30344, 4565],\n",
        "    'Variación': ['-10.3%', '-6.5%', '5.1%', '-24.6%']\n",
        "}\n",
        "\n",
        "df6 = pd.DataFrame(data7)\n",
        "\n",
        "print(df6)"
      ]
    },
    {
      "cell_type": "code",
      "execution_count": 57,
      "metadata": {},
      "outputs": [],
      "source": [
        "df6.to_csv('dataframe6.csv', index=False)"
      ]
    },
    {
      "cell_type": "code",
      "execution_count": 34,
      "metadata": {},
      "outputs": [],
      "source": [
        "import csv"
      ]
    },
    {
      "cell_type": "code",
      "execution_count": 38,
      "metadata": {},
      "outputs": [],
      "source": [
        "import csv\n",
        "\n",
        "tabla_vino = {\n",
        "    'Año': ['2010', '2020', 'Promedio de la industria'],\n",
        "    '/ Huella Hídrica (Litros por copa de vino)': ['72 Lts/copa', '55 Lts/copa', '109 Lts/copa'],\n",
        "    '/ Variación': ['x', '-24%', '+98%']\n",
        "}\n",
        "\n",
        "df1 = pd.DataFrame(tabla_vino)"
      ]
    },
    {
      "cell_type": "code",
      "execution_count": 42,
      "metadata": {},
      "outputs": [],
      "source": [
        "import csv\n",
        "\n",
        "data2 = {\n",
        "    'Fuente': ['Agua superficial', 'Agua subterránea'],\n",
        "    'Unidad': ['miles m3', 'miles m3'],\n",
        "    '2017': [19346, 12237],\n",
        "    '2018': [21058, 12750],\n",
        "    '2019': [25161, 17220],\n",
        "    'Variación': ['19%', '35%']\n",
        "}\n",
        "\n",
        "df1 = pd.DataFrame(data2)"
      ]
    },
    {
      "cell_type": "code",
      "execution_count": 46,
      "metadata": {},
      "outputs": [],
      "source": [
        "import csv\n",
        "\n",
        "data3 = {\n",
        "    'Fuente': ['Agua superficial', 'Agua subterránea', 'Agua Municipal'],\n",
        "    'Unidad': ['miles m3', 'miles m3', 'miles m3'],\n",
        "    '2017': [11480, 8817, 85],\n",
        "    '2018': [12903, 9107, 93],\n",
        "    '2019': [25017, 15867, 104],\n",
        "    'Variación': ['94%', '74%', '11%']\n",
        "}\n",
        "\n",
        "df1 = pd.DataFrame(tabla_vino)"
      ]
    },
    {
      "cell_type": "code",
      "execution_count": 49,
      "metadata": {},
      "outputs": [],
      "source": [
        "import csv\n",
        "\n",
        "data4 = {\n",
        "    'Fuente': ['Agua superficial', 'Agua subterránea', 'Agua Municipal', 'Consumo total'],\n",
        "    'Unidad': ['miles m3', 'miles m3', 'miles m3', 'miles m3'],\n",
        "    '2017': [12749, 4237, 7, 16993],\n",
        "    '2018': [14533, 4624, 8, 19165],\n",
        "    '2019': [19359, 6409, 11, 25779],\n",
        "    'Variación': ['33%', '39%', '44%', '']\n",
        "}\n",
        "\n",
        "data4['Variación'][3] = f\"{((data4['2019'][3] - data4['2017'][3]) / data4['2017'][3]) * 100:.2f}%\"\n",
        "\n",
        "df1 = pd.DataFrame(tabla_vino)"
      ]
    },
    {
      "cell_type": "code",
      "execution_count": 52,
      "metadata": {},
      "outputs": [],
      "source": [
        "import csv\n",
        "\n",
        "data5 = {\n",
        "    'Fuente': ['Agua superficial', 'Agua subterránea', 'Agua Municipal', 'Consumo total'],\n",
        "    'Unidad': ['miles m3', 'miles m3', 'miles m3', 'Mega Lts'],\n",
        "    '2017': [6747, 2758, 6, 9511],\n",
        "    '2018': [7598, 3021, 7, 10627],\n",
        "    '2019': [19359, 6409, 11, 25779],\n",
        "    'Variación': ['155%', '112%', '57%', '']\n",
        "}\n",
        "\n",
        "data5['Variación'][3] = f\"{((data5['2019'][3] - data5['2017'][3]) / data5['2017'][3]) * 100:.2f}%\"\n",
        "\n",
        "df1 = pd.DataFrame(tabla_vino)"
      ]
    },
    {
      "cell_type": "code",
      "execution_count": 55,
      "metadata": {},
      "outputs": [],
      "source": [
        "import csv\n",
        "\n",
        "data7 = {\n",
        "    'Unidad': ['Gasolina', 'Diesel', 'GLP', 'Gas Natural'],\n",
        "    '2017': [8249, 30684, 26201, 5297],\n",
        "    '2018': [8144, 34972, 28860, 6056],\n",
        "    '2019': [7304, 32695, 30344, 4565],\n",
        "    'Variación': ['-10.3%', '-6.5%', '5.1%', '-24.6%']\n",
        "}\n",
        "\n",
        "\n",
        "df1 = pd.DataFrame(tabla_vino)"
      ]
    }
  ],
  "metadata": {
    "colab": {
      "provenance": []
    },
    "kernelspec": {
      "display_name": "Python 3",
      "name": "python3"
    },
    "language_info": {
      "codemirror_mode": {
        "name": "ipython",
        "version": 3
      },
      "file_extension": ".py",
      "mimetype": "text/x-python",
      "name": "python",
      "nbconvert_exporter": "python",
      "pygments_lexer": "ipython3",
      "version": "3.11.5"
    }
  },
  "nbformat": 4,
  "nbformat_minor": 0
}
