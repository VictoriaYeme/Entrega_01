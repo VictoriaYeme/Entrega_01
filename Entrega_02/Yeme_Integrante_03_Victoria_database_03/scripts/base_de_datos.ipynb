{
  "cells": [
    {
      "cell_type": "markdown",
      "metadata": {
        "id": "OASVDC5z8R92"
      },
      "source": [
        "## Base de datos - Victoria Yeme\n",
        "\n",
        "###Temas elegidos para las bases de datos:\n",
        "####1. Datos de contaminación - Ignacio Muñoz\n",
        "####2. Datos de certificación de sustentabilidad - Felipe Gallet\n",
        "####3. Datos de consumo de vino (consumidor) - Victoria Yeme"
      ]
    },
    {
      "cell_type": "markdown",
      "metadata": {
        "id": "ET9Pj5SlSDPe"
      },
      "source": [
        "#####Hipótesis \"La producción sustentable de vino en Chile está logrando posicionarse por sobre el tradicional como el principal método de producción.\""
      ]
    },
    {
      "cell_type": "markdown",
      "metadata": {
        "id": "2g4KhW8JGugp"
      },
      "source": [
        "####El vino constituye un aporte significativo a la economía chilena, representando un 0,5% del producto interno bruto y empleando a más de 100,000 personas en trabajo directo, de los cuales (ver tabla):"
      ]
    },
    {
      "cell_type": "markdown",
      "metadata": {
        "id": "dn8Rk-MlHR0l"
      },
      "source": [
        "######La información que será entregada a continuación es de acuerdo a la página: https://www.winesofchile.org/chile-vitivinicola/aporte-del-vino-a-la-economia-y-desarrollo-de-chile/"
      ]
    },
    {
      "cell_type": "code",
      "execution_count": 3,
      "metadata": {
        "colab": {
          "base_uri": "https://localhost:8080/"
        },
        "id": "Pl7kPpzEGFDH",
        "outputId": "3307fb8c-6377-47fe-e360-a7b41da05caa"
      },
      "outputs": [
        {
          "name": "stdout",
          "output_type": "stream",
          "text": [
            "                              Sector  Empleo Directo Porcentaje Empleo Directo\n",
            "0                            Viñedos           53000                       53%\n",
            "1  Logística, Transporte y Marketing           19000                       19%\n",
            "2                            Bodegas           17000                       17%\n",
            "3                           Envasado            9000                        9%\n",
            "4                         Producción            2000                        2%\n",
            "5                              Total          100000                      100%\n"
          ]
        }
      ],
      "source": [
        "import pandas as pd\n",
        "\n",
        "datos1 = {\n",
        "    \"Sector\": [\"Viñedos\", \"Logística, Transporte y Marketing\", \"Bodegas\", \"Envasado\", \"Producción\", \"Total\"],\n",
        "    \"Empleo Directo\": [53000, 19000, 17000, 9000, 2000, 100000],\n",
        "    \"Porcentaje Empleo Directo\": [\"53%\", \"19%\", \"17%\", \"9%\", \"2%\", \"100%\"]\n",
        "}\n",
        "\n",
        "tabla_vino = pd.DataFrame(datos1)\n",
        "\n",
        "print(tabla_vino)"
      ]
    },
    {
      "cell_type": "code",
      "execution_count": 7,
      "metadata": {},
      "outputs": [],
      "source": [
        "tabla_vino.to_csv('dataframe1.csv', index=False)"
      ]
    },
    {
      "cell_type": "markdown",
      "metadata": {
        "id": "8hxkm86rJ6A7"
      },
      "source": [
        "####En el territorio nacional:"
      ]
    },
    {
      "cell_type": "code",
      "execution_count": 8,
      "metadata": {
        "colab": {
          "base_uri": "https://localhost:8080/"
        },
        "id": "qngkTZ6jH1L5",
        "outputId": "de1969f5-7dee-4851-f5ac-853a49921b53"
      },
      "outputs": [
        {
          "name": "stdout",
          "output_type": "stream",
          "text": [
            "                        Categoría  Cantidad\n",
            "0                 Bodegas Activas       800\n",
            "1                     Productores     11697\n",
            "2           Empresas Exportadoras       394\n",
            "3  Pymes en Empresas Exportadoras       299\n"
          ]
        }
      ],
      "source": [
        "import pandas as pd\n",
        "\n",
        "datos2 = {\n",
        "    \"Categoría\": [\"Bodegas Activas\", \"Productores\", \"Empresas Exportadoras\", \"Pymes en Empresas Exportadoras\"],\n",
        "    \"Cantidad\": [800, 11697, 394, int(0.76 * 394)]\n",
        "}\n",
        "\n",
        "tabla_vino_info = pd.DataFrame(datos2)\n",
        "\n",
        "print(tabla_vino_info)\n",
        "\n"
      ]
    },
    {
      "cell_type": "code",
      "execution_count": null,
      "metadata": {},
      "outputs": [],
      "source": [
        "tabla_vino_info.to_csv('dataframe2.csv', index=False)"
      ]
    },
    {
      "cell_type": "markdown",
      "metadata": {
        "id": "HCA0QfAeJ-hc"
      },
      "source": [
        "####Chile tiene un rol descentralizador en la industria del vino:"
      ]
    },
    {
      "cell_type": "code",
      "execution_count": 2,
      "metadata": {
        "colab": {
          "base_uri": "https://localhost:8080/"
        },
        "id": "TST2GWYxJopu",
        "outputId": "80490fee-52d1-4e27-cb18-21a9297f91c2"
      },
      "outputs": [
        {
          "name": "stdout",
          "output_type": "stream",
          "text": [
            "                                          Datos  Porcentaje\n",
            "0        Superficie Vitícola fuera de la RM (%)        91.0\n",
            "1  Bodegas fuera de la Región Metropolitana (%)        92.0\n",
            "2  Trabajo fuera de la Región Metropolitana (%)        85.0\n",
            "3                        Viñas en O'Higgins (%)        32.7\n",
            "4                         Viñas en El Maule (%)        37.9\n"
          ]
        }
      ],
      "source": [
        "import pandas as pd\n",
        "\n",
        "datos3 = {\n",
        "   \"Datos\": [\"Superficie Vitícola fuera de la RM (%)\", \"Bodegas fuera de la Región Metropolitana (%)\", \"Trabajo fuera de la Región Metropolitana (%)\", \"Viñas en O'Higgins (%)\", \"Viñas en El Maule (%)\"],\n",
        "  \"Porcentaje\": [int(0.91 * 100), int(0.92 * 100), int(0.85 * 100), 32.7, 37.9]\n",
        "\n",
        "    }\n",
        "\n",
        "tabla_vino_info = pd.DataFrame(datos3)\n",
        "\n",
        "print(tabla_vino_info)"
      ]
    },
    {
      "cell_type": "code",
      "execution_count": 7,
      "metadata": {},
      "outputs": [],
      "source": [
        "tabla_vino_info.to_csv('dataframe3.csv', index=False)"
      ]
    },
    {
      "cell_type": "markdown",
      "metadata": {
        "id": "QlsOev-OMbXi"
      },
      "source": [
        "#####Es decir, las regiones del Maule y O´Higgins concentran de por sí un 70,2% de la superficie nacional"
      ]
    },
    {
      "cell_type": "markdown",
      "metadata": {
        "id": "3eD2onbtcSm7"
      },
      "source": [
        "####La siguiente tabla muestra resultados por región:\n",
        "\n",
        "#####Siendo denominación de origen (D.O)"
      ]
    },
    {
      "cell_type": "code",
      "execution_count": 3,
      "metadata": {
        "colab": {
          "base_uri": "https://localhost:8080/"
        },
        "id": "-KAcAaEJbwRL",
        "outputId": "45d103cb-617f-4eb8-bf25-47cb0c663d2e"
      },
      "outputs": [
        {
          "name": "stdout",
          "output_type": "stream",
          "text": [
            "                     Región  Vinos con D.O.  Vinos sin D.O.       Total\n",
            "0                  Tarapacá               0            3434        3434\n",
            "1                   Atacama          177207           40930      218137\n",
            "2                  Coquimbo        51652592        21341626    72994218\n",
            "3                Valparaíso        18949709          121700    21032596\n",
            "4             Metropolitana        81964851         5115001    87764852\n",
            "5   Lib. Bernardo O’Higgins       333580589        17954648   363757625\n",
            "6                     Maule       434529618        95220309   543907293\n",
            "7                     Ñuble         2706854        10254064    13335017\n",
            "8                   Bío Bío          167833          206266           0\n",
            "9                 Araucanía            7155            3335       10490\n",
            "10                Los Lagos            5820             849        6669\n",
            "11                    Aysén            1147               0        1147\n",
            "12                    Total       923734375       150262162  1103031478\n"
          ]
        }
      ],
      "source": [
        "import pandas as pd\n",
        "\n",
        "datos4 = {\n",
        "    \"Región\": [\"Tarapacá\", \"Atacama\", \"Coquimbo\", \"Valparaíso\", \"Metropolitana\", \"Lib. Bernardo O’Higgins\", \"Maule\", \"Ñuble\", \"Bío Bío\", \"Araucanía\", \"Los Lagos\", \"Aysén\", \"Total\"],\n",
        "    \"Vinos con D.O.\": [0, 177207, 51652592, 18949709, 81964851, 333580589, 434529618, 2706854, 167833, 7155, 5820, 1147, 923734375],\n",
        "    \"Vinos sin D.O.\": [3434, 40930, 21341626, 121700, 5115001, 17954648, 95220309, 10254064, 206266, 3335, 849, 0, 150262162],\n",
        "    \"Total\": [3434, 218137, 72994218, 21032596, 87764852, 363757625, 543907293, 13335017, 0, 10490, 6669, 1147, 1103031478]\n",
        "}\n",
        "\n",
        "tabla_vinos_region = pd.DataFrame(datos4)\n",
        "\n",
        "tabla_vinos_region.loc[0, \"Total\"] = tabla_vinos_region.loc[0, \"Vinos con D.O.\"] + tabla_vinos_region.loc[0, \"Vinos sin D.O.\"]\n",
        "tabla_vinos_region.loc[8, \"Total\"] = 0\n",
        "\n",
        "print(tabla_vinos_region)\n"
      ]
    },
    {
      "cell_type": "code",
      "execution_count": 8,
      "metadata": {},
      "outputs": [],
      "source": [
        "tabla_vinos_region.to_csv('dataframe4.csv', index=False)"
      ]
    },
    {
      "cell_type": "markdown",
      "metadata": {
        "id": "B86jKGRiLAcs"
      },
      "source": [
        "####Por lo tanto, en resumen el vino tiene un gran aporte en la economía chilena. En la siguiente tabla, se podrán comparar datos de las tablas anteriores para observar en un plano general el aporte de la industria vitivínicola"
      ]
    },
    {
      "cell_type": "code",
      "execution_count": 4,
      "metadata": {
        "colab": {
          "base_uri": "https://localhost:8080/"
        },
        "id": "izqi6_LrKgYj",
        "outputId": "6e053928-0b35-483e-b9b7-d9cbb00c0f5d"
      },
      "outputs": [
        {
          "name": "stdout",
          "output_type": "stream",
          "text": [
            "                                               Dato     Valor\n",
            "0  % del vino de las Exportaciones que no son Cobre       5.7\n",
            "1              % de las Exportaciones Agropecuarias      16.5\n",
            "2                          Recaudación Fiscal (USD)     205.0\n",
            "3                                         % del PIB       0.5\n",
            "4                                 Trabajos Directos  100000.0\n",
            "5                                   Bodegas Activas     800.0\n",
            "6                     Empresas Exportadoras (Pymes)     299.0\n",
            "7              Superficie Vitícola fuera de la R.M.      91.0\n",
            "8                          Bodegas fuera de la R.M.      92.0\n"
          ]
        }
      ],
      "source": [
        "import pandas as pd\n",
        "\n",
        "datos5 = {\n",
        "    \"Dato\": [\"% del vino de las Exportaciones que no son Cobre\", \"% de las Exportaciones Agropecuarias\", \"Recaudación Fiscal (USD)\", \"% del PIB\", \"Trabajos Directos\", \"Bodegas Activas\", \"Empresas Exportadoras (Pymes)\", \"Superficie Vitícola fuera de la R.M.\", \"Bodegas fuera de la R.M.\"],\n",
        "    \"Valor\": [5.7, 16.5, 205, 0.5, 100000, 800, int(0.76 * 394), 91, 92]\n",
        "}\n",
        "\n",
        "tabla_informacion = pd.DataFrame(datos5)\n",
        "\n",
        "print(tabla_informacion)\n"
      ]
    },
    {
      "cell_type": "code",
      "execution_count": 10,
      "metadata": {},
      "outputs": [],
      "source": [
        "tabla_informacion.to_csv('dataframe5.csv', index=False)"
      ]
    },
    {
      "cell_type": "markdown",
      "metadata": {
        "id": "8YMefyFSMs5z"
      },
      "source": [
        "####Asímismo, según la ODEPA, Chile en 2022 fue el primer exportador de vinos de Sudamérica y cuarto exportador mundial de vinos, siendo superado sólo por países europeos de vasta trayectoria en materias vitivinícolas, como Francia, España e Italia.\n",
        "\n",
        "#####Link: https://www.odepa.gob.cl/rubros/vinos-y-alcoholes\n",
        "\n",
        "####Cabe agregar que, según Wines of Chile, el enoturismo en Chile atraen más de 946 mil turistas, los que representan el 15% de turistas que recibe el país.\n",
        "\n",
        "#####Link: https://www.winesofchile.org/\n",
        "\n",
        "####Wines of Chile, cuenta con 4 pilares para aumentar la demanda y la competitividad, uno de esos 4 pilares es la sustentabilidad."
      ]
    },
    {
      "cell_type": "markdown",
      "metadata": {
        "id": "RSoPrM9dNRFS"
      },
      "source": [
        "####Siguiendo con la ODEPA, en el último boletín de vino, realizado en Agosto 2023 se analizaron las exportaciones de julio 2023:"
      ]
    },
    {
      "cell_type": "code",
      "execution_count": 5,
      "metadata": {
        "colab": {
          "base_uri": "https://localhost:8080/"
        },
        "id": "ffrWP3tQOlag",
        "outputId": "2c1dd44d-49e1-4d2a-8acd-b5ab83ac417d"
      },
      "outputs": [
        {
          "name": "stdout",
          "output_type": "stream",
          "text": [
            "                  Datos Julio 2023  Exportaciones (millones de litros)  \\\n",
            "0    Exportaciones totales de vino                                57.1   \n",
            "1  Vino con denominación de Origen                                31.5   \n",
            "2                    Vino a Granel                                20.7   \n",
            "3           Total Enero-Julio 2023                               378.9   \n",
            "\n",
            "   Valor (USD millones FOB)  Variación en Volumen respecto a julio 2022 (%)  \\\n",
            "0                     142.0                                           -20.5   \n",
            "1                     112.8                                           -26.7   \n",
            "2                      18.2                                           -11.7   \n",
            "3                     863.0                                           -24.5   \n",
            "\n",
            "   Variación en Valor (%) respecto a julio 2022  \n",
            "0                                         -17.7  \n",
            "1                                         -18.3  \n",
            "2                                         -20.6  \n",
            "3                                         -24.0  \n"
          ]
        }
      ],
      "source": [
        "import pandas as pd\n",
        "\n",
        "datos6 = {\n",
        "    \"Datos Julio 2023\": [\"Exportaciones totales de vino\", \"Vino con denominación de Origen\", \"Vino a Granel\", \"Total Enero-Julio 2023\"],\n",
        "    \"Exportaciones (millones de litros)\": [57.1, 31.5, 20.7, 378.9],\n",
        "    \"Valor (USD millones FOB)\": [142, 112.8, 18.2, 863],\n",
        "    \"Variación en Volumen respecto a julio 2022 (%)\": [-20.5, -26.7, -11.7, -24.5],\n",
        "    \"Variación en Valor (%) respecto a julio 2022\": [-17.7, -18.3, -20.6, -24.0]\n",
        "}\n",
        "\n",
        "tabla_exportaciones = pd.DataFrame(datos6)\n",
        "\n",
        "print(tabla_exportaciones)\n"
      ]
    },
    {
      "cell_type": "code",
      "execution_count": 11,
      "metadata": {},
      "outputs": [],
      "source": [
        "tabla_exportaciones.to_csv('dataframe6.csv', index=False)"
      ]
    },
    {
      "cell_type": "markdown",
      "metadata": {
        "id": "NVkRexXlQF0J"
      },
      "source": [
        "####Respecto a la exportación de las otras categorias, los vinos envasados menores a 2 litros, presentaron una disminución en volumen y valor, respecto a julio de 2022, de 31,6% y 24,3% respectivamente, Los vinos espumosos y aquellos en envases entre 2 y 10 litros, presentaron un incremento en volumen y valor, respecto a julio de 2022."
      ]
    },
    {
      "cell_type": "markdown",
      "metadata": {
        "id": "IOiWAmfKTr0x"
      },
      "source": [
        "####Una de las consecuencias de la disminución en volumen del vino fueron la sequia y la crisis energética Es por lo tanto, imprescindible que se empiece a hacer un buen manejo del agua y llevar a cabo soluciones e innovaciones más sustentables que analizaran mis compañeros. Ignacio Muñoz profundizará en las innovaciones frente al cambio climático y Felipe Gallet verá cuáles son los requisitos para posicionarse como bodega sustentable.\n",
        "\n",
        "#####Según Intelvid, creció un 36% la exportación chilena de vinos orgánicos en los últimos 10 años"
      ]
    },
    {
      "cell_type": "markdown",
      "metadata": {
        "id": "W2vc7fjefT50"
      },
      "source": [
        "####La siguiente imagen muestra el volumen de las exportaciones de Chile de vino elaborado con uvas orgánicos.\n",
        "\n",
        "#####Link: https://bibliotecadigital.odepa.gob.cl/bitstream/handle/20.500.12650/72304/BVino04-2023.pdf"
      ]
    },
    {
      "cell_type": "code",
      "execution_count": 12,
      "metadata": {
        "colab": {
          "base_uri": "https://localhost:8080/",
          "height": 73
        },
        "id": "tQqu-SZ_e6Uq",
        "outputId": "744b2047-3493-4b3e-9d32-9a475e371a77"
      },
      "outputs": [
        {
          "ename": "ModuleNotFoundError",
          "evalue": "No module named 'google'",
          "output_type": "error",
          "traceback": [
            "\u001b[1;31m---------------------------------------------------------------------------\u001b[0m",
            "\u001b[1;31mModuleNotFoundError\u001b[0m                       Traceback (most recent call last)",
            "\u001b[1;32mc:\\Users\\Admin\\Documents\\GitHub\\Entrega_01\\Yeme\\scripts\\Copia_de_base_de_datos.ipynb Cell 27\u001b[0m line \u001b[0;36m1\n\u001b[1;32m----> <a href='vscode-notebook-cell:/c%3A/Users/Admin/Documents/GitHub/Entrega_01/Yeme/scripts/Copia_de_base_de_datos.ipynb#X31sZmlsZQ%3D%3D?line=0'>1</a>\u001b[0m \u001b[39mfrom\u001b[39;00m \u001b[39mgoogle\u001b[39;00m\u001b[39m.\u001b[39;00m\u001b[39mcolab\u001b[39;00m \u001b[39mimport\u001b[39;00m files\n\u001b[0;32m      <a href='vscode-notebook-cell:/c%3A/Users/Admin/Documents/GitHub/Entrega_01/Yeme/scripts/Copia_de_base_de_datos.ipynb#X31sZmlsZQ%3D%3D?line=1'>2</a>\u001b[0m uploaded \u001b[39m=\u001b[39m files\u001b[39m.\u001b[39mupload()\n",
            "\u001b[1;31mModuleNotFoundError\u001b[0m: No module named 'google'"
          ]
        }
      ],
      "source": [
        "from google.colab import files\n",
        "uploaded = files.upload()\n"
      ]
    },
    {
      "cell_type": "code",
      "execution_count": null,
      "metadata": {
        "colab": {
          "base_uri": "https://localhost:8080/",
          "height": 284
        },
        "id": "Np3wVQG7fHBK",
        "outputId": "5a017d27-ad0b-4a3f-92d6-8a820aef7645"
      },
      "outputs": [
        {
          "data": {
            "image/png": "[encoded data removed]",
            "text/plain": [
              "<IPython.core.display.Image object>"
            ]
          },
          "execution_count": 49,
          "metadata": {},
          "output_type": "execute_result"
        }
      ],
      "source": [
        "from IPython.display import Image\n",
        "Image(filename='Gráfico 13.png')\n"
      ]
    },
    {
      "cell_type": "markdown",
      "metadata": {
        "id": "pThbpL_afkZk"
      },
      "source": [
        "##¡Gracias!"
      ]
    },
    {
      "cell_type": "code",
      "execution_count": null,
      "metadata": {
        "id": "A9cnwpfIlNip"
      },
      "outputs": [],
      "source": [
        "import csv\n"
      ]
    },
    {
      "cell_type": "code",
      "execution_count": null,
      "metadata": {
        "id": "_ndUY2YNorQE"
      },
      "outputs": [],
      "source": [
        "import pandas as pd\n"
      ]
    },
    {
      "cell_type": "code",
      "execution_count": null,
      "metadata": {
        "id": "pxhmyfJBlXer"
      },
      "outputs": [],
      "source": [
        "import csv\n",
        "\n",
        "datos1 = {\n",
        "    \"Sector\": [\"Viñedos\", \"Logística, Transporte y Marketing\", \"Bodegas\", \"Envasado\", \"Producción\", \"Total\"],\n",
        "    \"Empleo Directo\": [53000, 19000, 17000, 9000, 2000, 100000],\n",
        "    \"Porcentaje Empleo Directo\": [\"53%\", \"19%\", \"17%\", \"9%\", \"2%\", \"100%\"]\n",
        "}\n",
        "\n",
        "df1 = pd.DataFrame(datos1)"
      ]
    },
    {
      "cell_type": "code",
      "execution_count": null,
      "metadata": {
        "colab": {
          "base_uri": "https://localhost:8080/",
          "height": 238
        },
        "id": "_8Nbbgms-Bif",
        "outputId": "f3d36c59-4374-44e0-f513-2188f504b6c9"
      },
      "outputs": [
        {
          "data": {
            "text/html": [
              "\n",
              "  <div id=\"df-282f7a89-76b3-49fd-b074-b5b4faae6a1a\" class=\"colab-df-container\">\n",
              "    <div>\n",
              "<style scoped>\n",
              "    .dataframe tbody tr th:only-of-type {\n",
              "        vertical-align: middle;\n",
              "    }\n",
              "\n",
              "    .dataframe tbody tr th {\n",
              "        vertical-align: top;\n",
              "    }\n",
              "\n",
              "    .dataframe thead th {\n",
              "        text-align: right;\n",
              "    }\n",
              "</style>\n",
              "<table border=\"1\" class=\"dataframe\">\n",
              "  <thead>\n",
              "    <tr style=\"text-align: right;\">\n",
              "      <th></th>\n",
              "      <th>Sector</th>\n",
              "      <th>Empleo Directo</th>\n",
              "      <th>Porcentaje Empleo Directo</th>\n",
              "    </tr>\n",
              "  </thead>\n",
              "  <tbody>\n",
              "    <tr>\n",
              "      <th>0</th>\n",
              "      <td>Viñedos</td>\n",
              "      <td>53000</td>\n",
              "      <td>53%</td>\n",
              "    </tr>\n",
              "    <tr>\n",
              "      <th>1</th>\n",
              "      <td>Logística, Transporte y Marketing</td>\n",
              "      <td>19000</td>\n",
              "      <td>19%</td>\n",
              "    </tr>\n",
              "    <tr>\n",
              "      <th>2</th>\n",
              "      <td>Bodegas</td>\n",
              "      <td>17000</td>\n",
              "      <td>17%</td>\n",
              "    </tr>\n",
              "    <tr>\n",
              "      <th>3</th>\n",
              "      <td>Envasado</td>\n",
              "      <td>9000</td>\n",
              "      <td>9%</td>\n",
              "    </tr>\n",
              "    <tr>\n",
              "      <th>4</th>\n",
              "      <td>Producción</td>\n",
              "      <td>2000</td>\n",
              "      <td>2%</td>\n",
              "    </tr>\n",
              "    <tr>\n",
              "      <th>5</th>\n",
              "      <td>Total</td>\n",
              "      <td>100000</td>\n",
              "      <td>100%</td>\n",
              "    </tr>\n",
              "  </tbody>\n",
              "</table>\n",
              "</div>\n",
              "    <div class=\"colab-df-buttons\">\n",
              "\n",
              "  <div class=\"colab-df-container\">\n",
              "    <button class=\"colab-df-convert\" onclick=\"convertToInteractive('df-282f7a89-76b3-49fd-b074-b5b4faae6a1a')\"\n",
              "            title=\"Convert this dataframe to an interactive table.\"\n",
              "            style=\"display:none;\">\n",
              "\n",
              "  <svg xmlns=\"http://www.w3.org/2000/svg\" height=\"24px\" viewBox=\"0 -960 960 960\">\n",
              "    <path d=\"M120-120v-720h720v720H120Zm60-500h600v-160H180v160Zm220 220h160v-160H400v160Zm0 220h160v-160H400v160ZM180-400h160v-160H180v160Zm440 0h160v-160H620v160ZM180-180h160v-160H180v160Zm440 0h160v-160H620v160Z\"/>\n",
              "  </svg>\n",
              "    </button>\n",
              "\n",
              "  <style>\n",
              "    .colab-df-container {\n",
              "      display:flex;\n",
              "      gap: 12px;\n",
              "    }\n",
              "\n",
              "    .colab-df-convert {\n",
              "      background-color: #E8F0FE;\n",
              "      border: none;\n",
              "      border-radius: 50%;\n",
              "      cursor: pointer;\n",
              "      display: none;\n",
              "      fill: #1967D2;\n",
              "      height: 32px;\n",
              "      padding: 0 0 0 0;\n",
              "      width: 32px;\n",
              "    }\n",
              "\n",
              "    .colab-df-convert:hover {\n",
              "      background-color: #E2EBFA;\n",
              "      box-shadow: 0px 1px 2px rgba(60, 64, 67, 0.3), 0px 1px 3px 1px rgba(60, 64, 67, 0.15);\n",
              "      fill: #174EA6;\n",
              "    }\n",
              "\n",
              "    .colab-df-buttons div {\n",
              "      margin-bottom: 4px;\n",
              "    }\n",
              "\n",
              "    [theme=dark] .colab-df-convert {\n",
              "      background-color: #3B4455;\n",
              "      fill: #D2E3FC;\n",
              "    }\n",
              "\n",
              "    [theme=dark] .colab-df-convert:hover {\n",
              "      background-color: #434B5C;\n",
              "      box-shadow: 0px 1px 3px 1px rgba(0, 0, 0, 0.15);\n",
              "      filter: drop-shadow(0px 1px 2px rgba(0, 0, 0, 0.3));\n",
              "      fill: #FFFFFF;\n",
              "    }\n",
              "  </style>\n",
              "\n",
              "    <script>\n",
              "      const buttonEl =\n",
              "        document.querySelector('#df-282f7a89-76b3-49fd-b074-b5b4faae6a1a button.colab-df-convert');\n",
              "      buttonEl.style.display =\n",
              "        google.colab.kernel.accessAllowed ? 'block' : 'none';\n",
              "\n",
              "      async function convertToInteractive(key) {\n",
              "        const element = document.querySelector('#df-282f7a89-76b3-49fd-b074-b5b4faae6a1a');\n",
              "        const dataTable =\n",
              "          await google.colab.kernel.invokeFunction('convertToInteractive',\n",
              "                                                    [key], {});\n",
              "        if (!dataTable) return;\n",
              "\n",
              "        const docLinkHtml = 'Like what you see? Visit the ' +\n",
              "          '<a target=\"_blank\" href=https://colab.research.google.com/notebooks/data_table.ipynb>data table notebook</a>'\n",
              "          + ' to learn more about interactive tables.';\n",
              "        element.innerHTML = '';\n",
              "        dataTable['output_type'] = 'display_data';\n",
              "        await google.colab.output.renderOutput(dataTable, element);\n",
              "        const docLink = document.createElement('div');\n",
              "        docLink.innerHTML = docLinkHtml;\n",
              "        element.appendChild(docLink);\n",
              "      }\n",
              "    </script>\n",
              "  </div>\n",
              "\n",
              "\n",
              "<div id=\"df-36951343-1ca8-4fdd-81e5-1b3f8b861525\">\n",
              "  <button class=\"colab-df-quickchart\" onclick=\"quickchart('df-36951343-1ca8-4fdd-81e5-1b3f8b861525')\"\n",
              "            title=\"Suggest charts.\"\n",
              "            style=\"display:none;\">\n",
              "\n",
              "<svg xmlns=\"http://www.w3.org/2000/svg\" height=\"24px\"viewBox=\"0 0 24 24\"\n",
              "     width=\"24px\">\n",
              "    <g>\n",
              "        <path d=\"M19 3H5c-1.1 0-2 .9-2 2v14c0 1.1.9 2 2 2h14c1.1 0 2-.9 2-2V5c0-1.1-.9-2-2-2zM9 17H7v-7h2v7zm4 0h-2V7h2v10zm4 0h-2v-4h2v4z\"/>\n",
              "    </g>\n",
              "</svg>\n",
              "  </button>\n",
              "\n",
              "<style>\n",
              "  .colab-df-quickchart {\n",
              "      --bg-color: #E8F0FE;\n",
              "      --fill-color: #1967D2;\n",
              "      --hover-bg-color: #E2EBFA;\n",
              "      --hover-fill-color: #174EA6;\n",
              "      --disabled-fill-color: #AAA;\n",
              "      --disabled-bg-color: #DDD;\n",
              "  }\n",
              "\n",
              "  [theme=dark] .colab-df-quickchart {\n",
              "      --bg-color: #3B4455;\n",
              "      --fill-color: #D2E3FC;\n",
              "      --hover-bg-color: #434B5C;\n",
              "      --hover-fill-color: #FFFFFF;\n",
              "      --disabled-bg-color: #3B4455;\n",
              "      --disabled-fill-color: #666;\n",
              "  }\n",
              "\n",
              "  .colab-df-quickchart {\n",
              "    background-color: var(--bg-color);\n",
              "    border: none;\n",
              "    border-radius: 50%;\n",
              "    cursor: pointer;\n",
              "    display: none;\n",
              "    fill: var(--fill-color);\n",
              "    height: 32px;\n",
              "    padding: 0;\n",
              "    width: 32px;\n",
              "  }\n",
              "\n",
              "  .colab-df-quickchart:hover {\n",
              "    background-color: var(--hover-bg-color);\n",
              "    box-shadow: 0 1px 2px rgba(60, 64, 67, 0.3), 0 1px 3px 1px rgba(60, 64, 67, 0.15);\n",
              "    fill: var(--button-hover-fill-color);\n",
              "  }\n",
              "\n",
              "  .colab-df-quickchart-complete:disabled,\n",
              "  .colab-df-quickchart-complete:disabled:hover {\n",
              "    background-color: var(--disabled-bg-color);\n",
              "    fill: var(--disabled-fill-color);\n",
              "    box-shadow: none;\n",
              "  }\n",
              "\n",
              "  .colab-df-spinner {\n",
              "    border: 2px solid var(--fill-color);\n",
              "    border-color: transparent;\n",
              "    border-bottom-color: var(--fill-color);\n",
              "    animation:\n",
              "      spin 1s steps(1) infinite;\n",
              "  }\n",
              "\n",
              "  @keyframes spin {\n",
              "    0% {\n",
              "      border-color: transparent;\n",
              "      border-bottom-color: var(--fill-color);\n",
              "      border-left-color: var(--fill-color);\n",
              "    }\n",
              "    20% {\n",
              "      border-color: transparent;\n",
              "      border-left-color: var(--fill-color);\n",
              "      border-top-color: var(--fill-color);\n",
              "    }\n",
              "    30% {\n",
              "      border-color: transparent;\n",
              "      border-left-color: var(--fill-color);\n",
              "      border-top-color: var(--fill-color);\n",
              "      border-right-color: var(--fill-color);\n",
              "    }\n",
              "    40% {\n",
              "      border-color: transparent;\n",
              "      border-right-color: var(--fill-color);\n",
              "      border-top-color: var(--fill-color);\n",
              "    }\n",
              "    60% {\n",
              "      border-color: transparent;\n",
              "      border-right-color: var(--fill-color);\n",
              "    }\n",
              "    80% {\n",
              "      border-color: transparent;\n",
              "      border-right-color: var(--fill-color);\n",
              "      border-bottom-color: var(--fill-color);\n",
              "    }\n",
              "    90% {\n",
              "      border-color: transparent;\n",
              "      border-bottom-color: var(--fill-color);\n",
              "    }\n",
              "  }\n",
              "</style>\n",
              "\n",
              "  <script>\n",
              "    async function quickchart(key) {\n",
              "      const quickchartButtonEl =\n",
              "        document.querySelector('#' + key + ' button');\n",
              "      quickchartButtonEl.disabled = true;  // To prevent multiple clicks.\n",
              "      quickchartButtonEl.classList.add('colab-df-spinner');\n",
              "      try {\n",
              "        const charts = await google.colab.kernel.invokeFunction(\n",
              "            'suggestCharts', [key], {});\n",
              "      } catch (error) {\n",
              "        console.error('Error during call to suggestCharts:', error);\n",
              "      }\n",
              "      quickchartButtonEl.classList.remove('colab-df-spinner');\n",
              "      quickchartButtonEl.classList.add('colab-df-quickchart-complete');\n",
              "    }\n",
              "    (() => {\n",
              "      let quickchartButtonEl =\n",
              "        document.querySelector('#df-36951343-1ca8-4fdd-81e5-1b3f8b861525 button');\n",
              "      quickchartButtonEl.style.display =\n",
              "        google.colab.kernel.accessAllowed ? 'block' : 'none';\n",
              "    })();\n",
              "  </script>\n",
              "</div>\n",
              "    </div>\n",
              "  </div>\n"
            ],
            "text/plain": [
              "                              Sector  Empleo Directo Porcentaje Empleo Directo\n",
              "0                            Viñedos           53000                       53%\n",
              "1  Logística, Transporte y Marketing           19000                       19%\n",
              "2                            Bodegas           17000                       17%\n",
              "3                           Envasado            9000                        9%\n",
              "4                         Producción            2000                        2%\n",
              "5                              Total          100000                      100%"
            ]
          },
          "execution_count": 5,
          "metadata": {},
          "output_type": "execute_result"
        }
      ],
      "source": [
        "df1"
      ]
    },
    {
      "cell_type": "code",
      "execution_count": null,
      "metadata": {
        "id": "gXBu3iu9lb_V"
      },
      "outputs": [],
      "source": [
        "import csv\n",
        "\n",
        "datos2 = {\n",
        "    \"Categoría\": [\"Bodegas Activas\", \"Productores\", \"Empresas Exportadoras\", \"Pymes en Empresas Exportadoras\"],\n",
        "    \"Cantidad\": [800, 11697, 394, int(0.76 * 394)]\n",
        "}\n",
        "\n",
        "df2 = pd.DataFrame(datos2)\n"
      ]
    },
    {
      "cell_type": "code",
      "execution_count": null,
      "metadata": {
        "colab": {
          "base_uri": "https://localhost:8080/",
          "height": 175
        },
        "id": "aO6rAtz1-R5x",
        "outputId": "4cdc7a63-7c20-4a9c-9c10-87fb385e2702"
      },
      "outputs": [
        {
          "data": {
            "text/html": [
              "\n",
              "  <div id=\"df-d9177b8d-6cf6-497f-838e-24e881ab4d7e\" class=\"colab-df-container\">\n",
              "    <div>\n",
              "<style scoped>\n",
              "    .dataframe tbody tr th:only-of-type {\n",
              "        vertical-align: middle;\n",
              "    }\n",
              "\n",
              "    .dataframe tbody tr th {\n",
              "        vertical-align: top;\n",
              "    }\n",
              "\n",
              "    .dataframe thead th {\n",
              "        text-align: right;\n",
              "    }\n",
              "</style>\n",
              "<table border=\"1\" class=\"dataframe\">\n",
              "  <thead>\n",
              "    <tr style=\"text-align: right;\">\n",
              "      <th></th>\n",
              "      <th>Categoría</th>\n",
              "      <th>Cantidad</th>\n",
              "    </tr>\n",
              "  </thead>\n",
              "  <tbody>\n",
              "    <tr>\n",
              "      <th>0</th>\n",
              "      <td>Bodegas Activas</td>\n",
              "      <td>800</td>\n",
              "    </tr>\n",
              "    <tr>\n",
              "      <th>1</th>\n",
              "      <td>Productores</td>\n",
              "      <td>11697</td>\n",
              "    </tr>\n",
              "    <tr>\n",
              "      <th>2</th>\n",
              "      <td>Empresas Exportadoras</td>\n",
              "      <td>394</td>\n",
              "    </tr>\n",
              "    <tr>\n",
              "      <th>3</th>\n",
              "      <td>Pymes en Empresas Exportadoras</td>\n",
              "      <td>299</td>\n",
              "    </tr>\n",
              "  </tbody>\n",
              "</table>\n",
              "</div>\n",
              "    <div class=\"colab-df-buttons\">\n",
              "\n",
              "  <div class=\"colab-df-container\">\n",
              "    <button class=\"colab-df-convert\" onclick=\"convertToInteractive('df-d9177b8d-6cf6-497f-838e-24e881ab4d7e')\"\n",
              "            title=\"Convert this dataframe to an interactive table.\"\n",
              "            style=\"display:none;\">\n",
              "\n",
              "  <svg xmlns=\"http://www.w3.org/2000/svg\" height=\"24px\" viewBox=\"0 -960 960 960\">\n",
              "    <path d=\"M120-120v-720h720v720H120Zm60-500h600v-160H180v160Zm220 220h160v-160H400v160Zm0 220h160v-160H400v160ZM180-400h160v-160H180v160Zm440 0h160v-160H620v160ZM180-180h160v-160H180v160Zm440 0h160v-160H620v160Z\"/>\n",
              "  </svg>\n",
              "    </button>\n",
              "\n",
              "  <style>\n",
              "    .colab-df-container {\n",
              "      display:flex;\n",
              "      gap: 12px;\n",
              "    }\n",
              "\n",
              "    .colab-df-convert {\n",
              "      background-color: #E8F0FE;\n",
              "      border: none;\n",
              "      border-radius: 50%;\n",
              "      cursor: pointer;\n",
              "      display: none;\n",
              "      fill: #1967D2;\n",
              "      height: 32px;\n",
              "      padding: 0 0 0 0;\n",
              "      width: 32px;\n",
              "    }\n",
              "\n",
              "    .colab-df-convert:hover {\n",
              "      background-color: #E2EBFA;\n",
              "      box-shadow: 0px 1px 2px rgba(60, 64, 67, 0.3), 0px 1px 3px 1px rgba(60, 64, 67, 0.15);\n",
              "      fill: #174EA6;\n",
              "    }\n",
              "\n",
              "    .colab-df-buttons div {\n",
              "      margin-bottom: 4px;\n",
              "    }\n",
              "\n",
              "    [theme=dark] .colab-df-convert {\n",
              "      background-color: #3B4455;\n",
              "      fill: #D2E3FC;\n",
              "    }\n",
              "\n",
              "    [theme=dark] .colab-df-convert:hover {\n",
              "      background-color: #434B5C;\n",
              "      box-shadow: 0px 1px 3px 1px rgba(0, 0, 0, 0.15);\n",
              "      filter: drop-shadow(0px 1px 2px rgba(0, 0, 0, 0.3));\n",
              "      fill: #FFFFFF;\n",
              "    }\n",
              "  </style>\n",
              "\n",
              "    <script>\n",
              "      const buttonEl =\n",
              "        document.querySelector('#df-d9177b8d-6cf6-497f-838e-24e881ab4d7e button.colab-df-convert');\n",
              "      buttonEl.style.display =\n",
              "        google.colab.kernel.accessAllowed ? 'block' : 'none';\n",
              "\n",
              "      async function convertToInteractive(key) {\n",
              "        const element = document.querySelector('#df-d9177b8d-6cf6-497f-838e-24e881ab4d7e');\n",
              "        const dataTable =\n",
              "          await google.colab.kernel.invokeFunction('convertToInteractive',\n",
              "                                                    [key], {});\n",
              "        if (!dataTable) return;\n",
              "\n",
              "        const docLinkHtml = 'Like what you see? Visit the ' +\n",
              "          '<a target=\"_blank\" href=https://colab.research.google.com/notebooks/data_table.ipynb>data table notebook</a>'\n",
              "          + ' to learn more about interactive tables.';\n",
              "        element.innerHTML = '';\n",
              "        dataTable['output_type'] = 'display_data';\n",
              "        await google.colab.output.renderOutput(dataTable, element);\n",
              "        const docLink = document.createElement('div');\n",
              "        docLink.innerHTML = docLinkHtml;\n",
              "        element.appendChild(docLink);\n",
              "      }\n",
              "    </script>\n",
              "  </div>\n",
              "\n",
              "\n",
              "<div id=\"df-b0af9ccf-579d-4a02-b8e2-c86fb4111377\">\n",
              "  <button class=\"colab-df-quickchart\" onclick=\"quickchart('df-b0af9ccf-579d-4a02-b8e2-c86fb4111377')\"\n",
              "            title=\"Suggest charts.\"\n",
              "            style=\"display:none;\">\n",
              "\n",
              "<svg xmlns=\"http://www.w3.org/2000/svg\" height=\"24px\"viewBox=\"0 0 24 24\"\n",
              "     width=\"24px\">\n",
              "    <g>\n",
              "        <path d=\"M19 3H5c-1.1 0-2 .9-2 2v14c0 1.1.9 2 2 2h14c1.1 0 2-.9 2-2V5c0-1.1-.9-2-2-2zM9 17H7v-7h2v7zm4 0h-2V7h2v10zm4 0h-2v-4h2v4z\"/>\n",
              "    </g>\n",
              "</svg>\n",
              "  </button>\n",
              "\n",
              "<style>\n",
              "  .colab-df-quickchart {\n",
              "      --bg-color: #E8F0FE;\n",
              "      --fill-color: #1967D2;\n",
              "      --hover-bg-color: #E2EBFA;\n",
              "      --hover-fill-color: #174EA6;\n",
              "      --disabled-fill-color: #AAA;\n",
              "      --disabled-bg-color: #DDD;\n",
              "  }\n",
              "\n",
              "  [theme=dark] .colab-df-quickchart {\n",
              "      --bg-color: #3B4455;\n",
              "      --fill-color: #D2E3FC;\n",
              "      --hover-bg-color: #434B5C;\n",
              "      --hover-fill-color: #FFFFFF;\n",
              "      --disabled-bg-color: #3B4455;\n",
              "      --disabled-fill-color: #666;\n",
              "  }\n",
              "\n",
              "  .colab-df-quickchart {\n",
              "    background-color: var(--bg-color);\n",
              "    border: none;\n",
              "    border-radius: 50%;\n",
              "    cursor: pointer;\n",
              "    display: none;\n",
              "    fill: var(--fill-color);\n",
              "    height: 32px;\n",
              "    padding: 0;\n",
              "    width: 32px;\n",
              "  }\n",
              "\n",
              "  .colab-df-quickchart:hover {\n",
              "    background-color: var(--hover-bg-color);\n",
              "    box-shadow: 0 1px 2px rgba(60, 64, 67, 0.3), 0 1px 3px 1px rgba(60, 64, 67, 0.15);\n",
              "    fill: var(--button-hover-fill-color);\n",
              "  }\n",
              "\n",
              "  .colab-df-quickchart-complete:disabled,\n",
              "  .colab-df-quickchart-complete:disabled:hover {\n",
              "    background-color: var(--disabled-bg-color);\n",
              "    fill: var(--disabled-fill-color);\n",
              "    box-shadow: none;\n",
              "  }\n",
              "\n",
              "  .colab-df-spinner {\n",
              "    border: 2px solid var(--fill-color);\n",
              "    border-color: transparent;\n",
              "    border-bottom-color: var(--fill-color);\n",
              "    animation:\n",
              "      spin 1s steps(1) infinite;\n",
              "  }\n",
              "\n",
              "  @keyframes spin {\n",
              "    0% {\n",
              "      border-color: transparent;\n",
              "      border-bottom-color: var(--fill-color);\n",
              "      border-left-color: var(--fill-color);\n",
              "    }\n",
              "    20% {\n",
              "      border-color: transparent;\n",
              "      border-left-color: var(--fill-color);\n",
              "      border-top-color: var(--fill-color);\n",
              "    }\n",
              "    30% {\n",
              "      border-color: transparent;\n",
              "      border-left-color: var(--fill-color);\n",
              "      border-top-color: var(--fill-color);\n",
              "      border-right-color: var(--fill-color);\n",
              "    }\n",
              "    40% {\n",
              "      border-color: transparent;\n",
              "      border-right-color: var(--fill-color);\n",
              "      border-top-color: var(--fill-color);\n",
              "    }\n",
              "    60% {\n",
              "      border-color: transparent;\n",
              "      border-right-color: var(--fill-color);\n",
              "    }\n",
              "    80% {\n",
              "      border-color: transparent;\n",
              "      border-right-color: var(--fill-color);\n",
              "      border-bottom-color: var(--fill-color);\n",
              "    }\n",
              "    90% {\n",
              "      border-color: transparent;\n",
              "      border-bottom-color: var(--fill-color);\n",
              "    }\n",
              "  }\n",
              "</style>\n",
              "\n",
              "  <script>\n",
              "    async function quickchart(key) {\n",
              "      const quickchartButtonEl =\n",
              "        document.querySelector('#' + key + ' button');\n",
              "      quickchartButtonEl.disabled = true;  // To prevent multiple clicks.\n",
              "      quickchartButtonEl.classList.add('colab-df-spinner');\n",
              "      try {\n",
              "        const charts = await google.colab.kernel.invokeFunction(\n",
              "            'suggestCharts', [key], {});\n",
              "      } catch (error) {\n",
              "        console.error('Error during call to suggestCharts:', error);\n",
              "      }\n",
              "      quickchartButtonEl.classList.remove('colab-df-spinner');\n",
              "      quickchartButtonEl.classList.add('colab-df-quickchart-complete');\n",
              "    }\n",
              "    (() => {\n",
              "      let quickchartButtonEl =\n",
              "        document.querySelector('#df-b0af9ccf-579d-4a02-b8e2-c86fb4111377 button');\n",
              "      quickchartButtonEl.style.display =\n",
              "        google.colab.kernel.accessAllowed ? 'block' : 'none';\n",
              "    })();\n",
              "  </script>\n",
              "</div>\n",
              "    </div>\n",
              "  </div>\n"
            ],
            "text/plain": [
              "                        Categoría  Cantidad\n",
              "0                 Bodegas Activas       800\n",
              "1                     Productores     11697\n",
              "2           Empresas Exportadoras       394\n",
              "3  Pymes en Empresas Exportadoras       299"
            ]
          },
          "execution_count": 7,
          "metadata": {},
          "output_type": "execute_result"
        }
      ],
      "source": [
        "df2"
      ]
    },
    {
      "cell_type": "code",
      "execution_count": null,
      "metadata": {
        "id": "SEL38vYElfYG"
      },
      "outputs": [],
      "source": [
        "import csv\n",
        "\n",
        "datos3 = {\n",
        "   \"Datos\": [\"Superficie Vitícola fuera de la RM (%)\", \"Bodegas fuera de la Región Metropolitana (%)\", \"Trabajo fuera de la Región Metropolitana (%)\", \"Viñas en O'Higgins (%)\", \"Viñas en El Maule (%)\"],\n",
        "   \"Porcentaje\": [int(0.91 * 100), int(0.92 * 100), int(0.85 * 100), 32.7, 37.9]\n",
        "}\n",
        "\n",
        "df3 = pd.DataFrame(datos3)\n"
      ]
    },
    {
      "cell_type": "code",
      "execution_count": null,
      "metadata": {
        "id": "F5Z3g2O7lhq1"
      },
      "outputs": [],
      "source": [
        "import csv\n",
        "\n",
        "datos4 = {\n",
        "    \"Región\": [\"Tarapacá\", \"Atacama\", \"Coquimbo\", \"Valparaíso\", \"Metropolitana\", \"Lib. Bernardo O’Higgins\", \"Maule\", \"Ñuble\", \"Bío Bío\", \"Araucanía\", \"Los Lagos\", \"Aysén\", \"Total\"],\n",
        "    \"Vinos con D.O.\": [0, 177207, 51652592, 18949709, 81964851, 333580589, 434529618, 2706854, 167833, 7155, 5820, 1147, 923734375],\n",
        "    \"Vinos sin D.O.\": [3434, 40930, 21341626, 121700, 5115001, 17954648, 95220309, 10254064, 206266, 3335, 849, 0, 150262162],\n",
        "    \"Total\": [3434, 218137, 72994218, 21032596, 87764852, 363757625, 543907293, 13335017, 0, 10490, 6669, 1147, 1103031478]\n",
        "}\n",
        "\n",
        "with open('datos4.csv', 'w', newline='') as archivo_csv:\n",
        "    writer = csv.writer(archivo_csv)\n",
        "    writer.writerow(datos4.keys())\n",
        "    writer.writerows(zip(*datos4.values()))\n"
      ]
    },
    {
      "cell_type": "code",
      "execution_count": null,
      "metadata": {
        "id": "pmsziIMPlkJ1"
      },
      "outputs": [],
      "source": [
        "import csv\n",
        "\n",
        "datos5 = {\n",
        "    \"Dato\": [\"% del vino de las Exportaciones que no son Cobre\", \"% de las Exportaciones Agropecuarias\", \"Recaudación Fiscal (USD)\", \"% del PIB\", \"Trabajos Directos\", \"Bodegas Activas\", \"Empresas Exportadoras (Pymes)\", \"Superficie Vitícola fuera de la R.M.\", \"Bodegas fuera de la R.M.\"],\n",
        "    \"Valor\": [5.7, 16.5, 205, 0.5, 100000, 800, int(0.76 * 394), 91, 92]\n",
        "}\n",
        "\n",
        "with open('datos5.csv', 'w', newline='') as archivo_csv:\n",
        "    writer = csv.writer(archivo_csv)\n",
        "    writer.writerow(datos5.keys())\n",
        "    writer.writerows(zip(*datos5.values()))\n"
      ]
    },
    {
      "cell_type": "code",
      "execution_count": null,
      "metadata": {
        "id": "yzxmkdytl9jE"
      },
      "outputs": [],
      "source": [
        "import csv\n",
        "\n",
        "datos6 = {\n",
        "    \"Datos Julio 2023\": [\"Exportaciones totales de vino\", \"Vino con denominación de Origen\", \"Vino a Granel\", \"Total Enero-Julio 2023\"],\n",
        "    \"Exportaciones (millones de litros)\": [57.1, 31.5, 20.7, 378.9],\n",
        "    \"Valor (USD millones FOB)\": [142, 112.8, 18.2, 863],\n",
        "    \"Variación en Volumen respecto a julio 2022 (%)\": [-20.5, -26.7, -11.7, -24.5],\n",
        "    \"Variación en Valor (%) respecto a julio 2022\": [-17.7, -18.3, -20.6, -24.0]\n",
        "}\n",
        "\n",
        "with open('datos6.csv', 'w', newline='') as archivo_csv:\n",
        "    writer = csv.writer(archivo_csv)\n",
        "    writer.writerow(datos6.keys())\n",
        "    writer.writerows(zip(*datos6.values()))\n"
      ]
    },
    {
      "cell_type": "code",
      "execution_count": null,
      "metadata": {
        "colab": {
          "base_uri": "https://localhost:8080/"
        },
        "id": "8aWO5txlmo_u",
        "outputId": "388ccd06-91d4-4715-805f-8d6158c53b25"
      },
      "outputs": [
        {
          "name": "stdout",
          "output_type": "stream",
          "text": [
            "Requirement already satisfied: pandas in /usr/local/lib/python3.10/dist-packages (1.5.3)\n",
            "Requirement already satisfied: python-dateutil>=2.8.1 in /usr/local/lib/python3.10/dist-packages (from pandas) (2.8.2)\n",
            "Requirement already satisfied: pytz>=2020.1 in /usr/local/lib/python3.10/dist-packages (from pandas) (2023.3.post1)\n",
            "Requirement already satisfied: numpy>=1.21.0 in /usr/local/lib/python3.10/dist-packages (from pandas) (1.23.5)\n",
            "Requirement already satisfied: six>=1.5 in /usr/local/lib/python3.10/dist-packages (from python-dateutil>=2.8.1->pandas) (1.16.0)\n"
          ]
        }
      ],
      "source": [
        "pip install pandas"
      ]
    }
  ],
  "metadata": {
    "colab": {
      "provenance": []
    },
    "kernelspec": {
      "display_name": "Python 3",
      "name": "python3"
    },
    "language_info": {
      "codemirror_mode": {
        "name": "ipython",
        "version": 3
      },
      "file_extension": ".py",
      "mimetype": "text/x-python",
      "name": "python",
      "nbconvert_exporter": "python",
      "pygments_lexer": "ipython3",
      "version": "3.11.5"
    }
  },
  "nbformat": 4,
  "nbformat_minor": 0
}
