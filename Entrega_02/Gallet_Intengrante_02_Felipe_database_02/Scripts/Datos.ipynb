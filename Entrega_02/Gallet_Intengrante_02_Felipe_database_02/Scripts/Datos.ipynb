{
  "cells": [
    {
      "cell_type": "code",
      "execution_count": 1,
      "metadata": {
        "colab": {
          "base_uri": "https://localhost:8080/"
        },
        "id": "0WmB4N467lR_",
        "outputId": "02e840b4-8608-4b31-da3d-3255652c5dd7"
      },
      "outputs": [
        {
          "name": "stdout",
          "output_type": "stream",
          "text": [
            "Requirement already satisfied: pandas in c:\\users\\felip\\appdata\\local\\packages\\pythonsoftwarefoundation.python.3.11_qbz5n2kfra8p0\\localcache\\local-packages\\python311\\site-packages (2.1.1)\n",
            "Requirement already satisfied: numpy>=1.23.2 in c:\\users\\felip\\appdata\\local\\packages\\pythonsoftwarefoundation.python.3.11_qbz5n2kfra8p0\\localcache\\local-packages\\python311\\site-packages (from pandas) (1.26.0)\n",
            "Requirement already satisfied: python-dateutil>=2.8.2 in c:\\users\\felip\\appdata\\local\\packages\\pythonsoftwarefoundation.python.3.11_qbz5n2kfra8p0\\localcache\\local-packages\\python311\\site-packages (from pandas) (2.8.2)\n",
            "Requirement already satisfied: pytz>=2020.1 in c:\\users\\felip\\appdata\\local\\packages\\pythonsoftwarefoundation.python.3.11_qbz5n2kfra8p0\\localcache\\local-packages\\python311\\site-packages (from pandas) (2023.3.post1)\n",
            "Requirement already satisfied: tzdata>=2022.1 in c:\\users\\felip\\appdata\\local\\packages\\pythonsoftwarefoundation.python.3.11_qbz5n2kfra8p0\\localcache\\local-packages\\python311\\site-packages (from pandas) (2023.3)\n",
            "Requirement already satisfied: six>=1.5 in c:\\users\\felip\\appdata\\local\\packages\\pythonsoftwarefoundation.python.3.11_qbz5n2kfra8p0\\localcache\\local-packages\\python311\\site-packages (from python-dateutil>=2.8.2->pandas) (1.16.0)\n",
            "Note: you may need to restart the kernel to use updated packages.\n"
          ]
        }
      ],
      "source": [
        "pip install pandas\n"
      ]
    },
    {
      "cell_type": "markdown",
      "metadata": {
        "id": "GcGX0czonz9B"
      },
      "source": [
        "Hoy en Chile existe un método de certificación para que las viñas puedan ser llamadas sustentables. Para obtener la certificación o también llamado sello verde, los productores de vino deben pasar por un proceso de evaluación.\n"
      ]
    },
    {
      "cell_type": "markdown",
      "metadata": {
        "id": "T2O-KBeFplUP"
      },
      "source": [
        "En nuestro país existen 800 viñas que se encargan de la producción de vino, pero solo un 11% de ellas están certificadas, las que equivalen a 88 bodegas."
      ]
    },
    {
      "cell_type": "code",
      "execution_count": 2,
      "metadata": {
        "colab": {
          "base_uri": "https://localhost:8080/"
        },
        "id": "lZRiO9IJrd4i",
        "outputId": "b579626f-d36b-4a26-eb19-bd5ab0f5f21d"
      },
      "outputs": [
        {
          "name": "stdout",
          "output_type": "stream",
          "text": [
            "                  0              1               2               3  \\\n",
            "0          Arboleda         Aresti       Ballduzzi  Baron Philippe   \n",
            "1         Caliterra         Canepa          Carmen      Casa Marin   \n",
            "2        Centenaria       Chocalan   Concha y Toro         ConoSur   \n",
            "3             Porta     Echeverria        Emiliana         Estampa   \n",
            "4   Haras de Pirque       Indomita          Invina        La Playa   \n",
            "5        Los Boldos    Los Nogales      Los Vascos         Lourdes   \n",
            "6           Matetic         Maycas            Mayu   Miguel Torres   \n",
            "7            Nativa      Ochagavia         Odfjell       Palo Alto   \n",
            "8         San Pedro   Santa Alicia  Santa Carolina      Santa Cruz   \n",
            "9            Siegel  Tierra Andina           Sutil        Tarapaca   \n",
            "10       Valdivieso    Ventisquero       Veramonte             VIK   \n",
            "\n",
            "                    4             5            6                 7  \n",
            "0           Bisquertt      Volcanes      Bouchon             Calcu  \n",
            "1          Casa Rivas    Casa Silva  Casa Blanca  Casas del Bosque  \n",
            "2       Cousiño-Macul     Cremaschi       Darwin        De Martino  \n",
            "3            Falernia     Errazuriz    Fray Leon            Garcés  \n",
            "4         La Ronciere  Viña La Rosa        Leyda        Loncomilla  \n",
            "5                 LFE         Maipo        Maola            Maquis  \n",
            "6   Misiones de Rengo        Montes   Mont Grass           Morandé  \n",
            "7          Perez Cruz  Quinta Maipo    Requingua       San Esteban  \n",
            "8           Santa Ema  Santa Helena   Santa Loma        Santa Rita  \n",
            "9         Terra Noble          WTDF    Tunquelen         Undurraga  \n",
            "10            Viñamar           VFC     Vistamar        Viu Manent  \n"
          ]
        }
      ],
      "source": [
        "import csv\n",
        "\n",
        "import pandas as pd\n",
        "\n",
        "\n",
        "Certificadas = [[\"Arboleda\", \"Aresti\", \"Ballduzzi\", \"Baron Philippe\", \"Bisquertt\", \"Volcanes\", \"Bouchon\", \"Calcu\"],\n",
        "                [\"Caliterra\", \"Canepa\", \"Carmen\", \"Casa Marin\", \"Casa Rivas\", \"Casa Silva\", \"Casa Blanca\", \"Casas del Bosque\"],\n",
        "                [\"Centenaria\", \"Chocalan\", \"Concha y Toro\", \"ConoSur\", \"Cousiño-Macul\", \"Cremaschi\", \"Darwin\", \"De Martino\"],\n",
        "                [\"Porta\", \"Echeverria\", \"Emiliana\", \"Estampa\", \"Falernia\", \"Errazuriz\", \"Fray Leon\", \"Garcés\"],\n",
        "                [\"Haras de Pirque\", \"Indomita\", \"Invina\", \"La Playa\", \"La Ronciere\", \"Viña La Rosa\", \"Leyda\", \"Loncomilla\"],\n",
        "                [\"Los Boldos\", \"Los Nogales\", \"Los Vascos\", \"Lourdes\", \"LFE\", \"Maipo\", \"Maola\", \"Maquis\"],\n",
        "                [\"Matetic\", \"Maycas\", \"Mayu\", \"Miguel Torres\", \"Misiones de Rengo\", \"Montes\", \"Mont Grass\", \"Morandé\"],\n",
        "                [\"Nativa\", \"Ochagavia\", \"Odfjell\", \"Palo Alto\", \"Perez Cruz\", \"Quinta Maipo\", \"Requingua\", \"San Esteban\"],\n",
        "                [\"San Pedro\", \"Santa Alicia\", \"Santa Carolina\", \"Santa Cruz\", \"Santa Ema\", \"Santa Helena\", \"Santa Loma\", \"Santa Rita\"],\n",
        "                [\"Siegel\", \"Tierra Andina\", \"Sutil\", \"Tarapaca\", \"Terra Noble\", \"WTDF\", \"Tunquelen\", \"Undurraga\"],\n",
        "                [\"Valdivieso\", \"Ventisquero\", \"Veramonte\", \"VIK\", \"Viñamar\", \"VFC\", \"Vistamar\", \"Viu Manent\"]]\n",
        "\n",
        "\n",
        "ViñasCerti = pd.DataFrame(Certificadas)\n",
        "\n",
        "print(ViñasCerti)"
      ]
    },
    {
      "cell_type": "code",
      "execution_count": 6,
      "metadata": {},
      "outputs": [],
      "source": [
        "ViñasCerti.to_csv(\"dataframe1.csv\", index=False)"
      ]
    },
    {
      "cell_type": "markdown",
      "metadata": {
        "id": "knJrocmc9N0k"
      },
      "source": [
        "El proceso para alcanzar la certificación es través de una evaluación y una encuesta para ver el nivel de cada viña en el enfoque sustentable."
      ]
    },
    {
      "cell_type": "markdown",
      "metadata": {
        "id": "Xllqr1B59N74"
      },
      "source": [
        "A continuación, podemos ver ciertas preguntas de la encuesta que se le realizaron a una de las viñas certificadas."
      ]
    },
    {
      "cell_type": "code",
      "execution_count": 4,
      "metadata": {
        "colab": {
          "base_uri": "https://localhost:8080/"
        },
        "id": "t8Y4G0Vp928Q",
        "outputId": "156a0a54-3e6d-42f1-82a8-bec6fbc22c05"
      },
      "outputs": [
        {
          "name": "stdout",
          "output_type": "stream",
          "text": [
            "                           Item  Puntajes\n",
            "0                        Viñedo        16\n",
            "1                  Manejo Suelo        26\n",
            "2            Manejo Nutricional        48\n",
            "3                Manejo Malezas        48\n",
            "4        Manejo de Enfermedades        48\n",
            "5       Aplicación de Productos        24\n",
            "6   Almacenamiento de Productos        24\n",
            "7            Manejo de Residuos        36\n",
            "8               Manejo de Vigor        32\n",
            "9                         Riego        68\n",
            "10                      Energía        72\n",
            "11                 Capacitación        32\n",
            "12                        Salud        92\n",
            "13                Biodiversidad        20\n",
            "14              Sustentabilidad        12\n",
            "15                Reclamaciones        28\n"
          ]
        }
      ],
      "source": [
        "import csv\n",
        "\n",
        "import pandas as pd\n",
        "\n",
        "d = {\n",
        "    \"Item\": [\"Viñedo\", \"Manejo Suelo\", \"Manejo Nutricional\", \"Manejo Malezas\", \"Manejo de Enfermedades\", \"Aplicación de Productos\", \"Almacenamiento de Productos\", \"Manejo de Residuos\", \"Manejo de Vigor\", \"Riego\", \"Energía\", \"Capacitación\", \"Salud\", \"Biodiversidad\", \"Sustentabilidad\", \"Reclamaciones\"],\n",
        "    \"Puntajes\": [16, 26, 48, 48, 48, 24, 24, 36, 32, 68, 72, 32, 92, 20, 12, 28]\n",
        "}\n",
        "\n",
        "puntos_certificacion = pd.DataFrame(d)\n",
        "\n",
        "print(puntos_certificacion)"
      ]
    },
    {
      "cell_type": "code",
      "execution_count": 7,
      "metadata": {},
      "outputs": [],
      "source": [
        "puntos_certificacion.to_csv(\"dataframe2.csv\", index=False)"
      ]
    },
    {
      "cell_type": "code",
      "execution_count": 5,
      "metadata": {
        "colab": {
          "base_uri": "https://localhost:8080/"
        },
        "id": "qngkTZ6jH1L5",
        "outputId": "0bcfc8c4-20f6-4031-e9f3-e9f99e7fcea3"
      },
      "outputs": [
        {
          "name": "stdout",
          "output_type": "stream",
          "text": [
            "                       Preguntas  Puntajes\n",
            "0              Existe Señalética         4\n",
            "1                  Plan de suelo         0\n",
            "2            Manejo entrehileras         6\n",
            "3           Monitoreo de malezas         0\n",
            "4            Monitoreo de plagas         0\n",
            "5        Evitar la contaminación         0\n",
            "6            Calibración equipos         0\n",
            "7  Áreas de alto valor ecológico         6\n",
            "8          Áreas de conservación         2\n"
          ]
        }
      ],
      "source": [
        "import pandas as pd\n",
        "\n",
        "datos = {\n",
        "    \"Preguntas\": [\"Existe Señalética\", \"Plan de suelo\", \"Manejo entrehileras\", \"Monitoreo de malezas\", \"Monitoreo de plagas\", \"Evitar la contaminación\", \"Calibración equipos\", \"Áreas de alto valor ecológico\", \"Áreas de conservación\"],\n",
        "    \"Puntajes\": [4, 0, 6, 0, 0, 0, 0, 6, 2]\n",
        "}\n",
        "\n",
        "tabla_certificacion = pd.DataFrame(datos)\n",
        "\n",
        "print(tabla_certificacion)\n",
        "\n"
      ]
    },
    {
      "cell_type": "code",
      "execution_count": 8,
      "metadata": {},
      "outputs": [],
      "source": [
        "tabla_certificacion.to_csv(\"dataframe3.csv\", index=False)"
      ]
    },
    {
      "cell_type": "markdown",
      "metadata": {
        "id": "sIDV0CFT_yhL"
      },
      "source": [
        "Al final, estos números se suman para ver si se alcanza el minimo de puntaje (700) para alcanzar la certificación. Estos son solo una parte de las preguntas y puntajes que se entregan."
      ]
    }
  ],
  "metadata": {
    "colab": {
      "provenance": []
    },
    "kernelspec": {
      "display_name": "Python 3",
      "name": "python3"
    },
    "language_info": {
      "codemirror_mode": {
        "name": "ipython",
        "version": 3
      },
      "file_extension": ".py",
      "mimetype": "text/x-python",
      "name": "python",
      "nbconvert_exporter": "python",
      "pygments_lexer": "ipython3",
      "version": "3.11.5"
    }
  },
  "nbformat": 4,
  "nbformat_minor": 0
}
