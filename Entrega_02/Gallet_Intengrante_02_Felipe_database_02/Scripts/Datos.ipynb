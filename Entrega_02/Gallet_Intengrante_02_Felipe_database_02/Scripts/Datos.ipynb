{
  "cells": [
    {
      "cell_type": "code",
      "execution_count": null,
      "metadata": {
        "colab": {
          "base_uri": "https://localhost:8080/"
        },
        "id": "0WmB4N467lR_",
        "outputId": "02e840b4-8608-4b31-da3d-3255652c5dd7"
      },
      "outputs": [
        {
          "name": "stdout",
          "output_type": "stream",
          "text": [
            "^C\n",
            "Note: you may need to restart the kernel to use updated packages.\n"
          ]
        },
        {
          "name": "stdout",
          "output_type": "stream",
          "text": [
            "Collecting pandas\n",
            "  Obtaining dependency information for pandas from https://files.pythonhosted.org/packages/2d/5e/9213ea10ac473e2437dc2cb17323ddc0999997e2713d6a0b683b10773994/pandas-2.1.1-cp311-cp311-win_amd64.whl.metadata\n",
            "  Downloading pandas-2.1.1-cp311-cp311-win_amd64.whl.metadata (18 kB)\n",
            "Collecting numpy>=1.23.2 (from pandas)\n",
            "  Obtaining dependency information for numpy>=1.23.2 from https://files.pythonhosted.org/packages/93/fd/3f826c6d15d3bdcf65b8031e4835c52b7d9c45add25efa2314b53850e1a2/numpy-1.26.0-cp311-cp311-win_amd64.whl.metadata\n",
            "  Downloading numpy-1.26.0-cp311-cp311-win_amd64.whl.metadata (61 kB)\n",
            "     ---------------------------------------- 0.0/61.1 kB ? eta -:--:--\n",
            "     ---------------------------------------- 61.1/61.1 kB 1.6 MB/s eta 0:00:00\n",
            "Requirement already satisfied: python-dateutil>=2.8.2 in c:\\users\\felip\\appdata\\local\\packages\\pythonsoftwarefoundation.python.3.11_qbz5n2kfra8p0\\localcache\\local-packages\\python311\\site-packages (from pandas) (2.8.2)\n",
            "Collecting pytz>=2020.1 (from pandas)\n",
            "  Obtaining dependency information for pytz>=2020.1 from https://files.pythonhosted.org/packages/32/4d/aaf7eff5deb402fd9a24a1449a8119f00d74ae9c2efa79f8ef9994261fc2/pytz-2023.3.post1-py2.py3-none-any.whl.metadata\n",
            "  Downloading pytz-2023.3.post1-py2.py3-none-any.whl.metadata (22 kB)\n",
            "Collecting tzdata>=2022.1 (from pandas)\n",
            "  Downloading tzdata-2023.3-py2.py3-none-any.whl (341 kB)\n",
            "     ---------------------------------------- 0.0/341.8 kB ? eta -:--:--\n",
            "     ------------------------------------  337.9/341.8 kB 10.6 MB/s eta 0:00:01\n",
            "     -------------------------------------- 341.8/341.8 kB 7.1 MB/s eta 0:00:00\n",
            "Requirement already satisfied: six>=1.5 in c:\\users\\felip\\appdata\\local\\packages\\pythonsoftwarefoundation.python.3.11_qbz5n2kfra8p0\\localcache\\local-packages\\python311\\site-packages (from python-dateutil>=2.8.2->pandas) (1.16.0)\n",
            "Downloading pandas-2.1.1-cp311-cp311-win_amd64.whl (10.6 MB)\n",
            "   ---------------------------------------- 0.0/10.6 MB ? eta -:--:--\n",
            "   --- ------------------------------------ 0.8/10.6 MB 17.2 MB/s eta 0:00:01\n",
            "   --------- ------------------------------ 2.5/10.6 MB 26.5 MB/s eta 0:00:01\n",
            "   ------------------ --------------------- 4.9/10.6 MB 34.9 MB/s eta 0:00:01\n",
            "   -------------------------- ------------- 7.1/10.6 MB 38.0 MB/s eta 0:00:01\n",
            "   -------------------------------------- - 10.2/10.6 MB 43.4 MB/s eta 0:00:01\n",
            "   ---------------------------------------  10.6/10.6 MB 50.4 MB/s eta 0:00:01\n",
            "   ---------------------------------------- 10.6/10.6 MB 38.6 MB/s eta 0:00:00\n",
            "Downloading numpy-1.26.0-cp311-cp311-win_amd64.whl (15.8 MB)\n",
            "   ---------------------------------------- 0.0/15.8 MB ? eta -:--:--\n",
            "   ----- ---------------------------------- 2.3/15.8 MB 49.6 MB/s eta 0:00:01\n",
            "   ------------- -------------------------- 5.2/15.8 MB 55.5 MB/s eta 0:00:01\n",
            "   ------------------- -------------------- 7.7/15.8 MB 55.1 MB/s eta 0:00:01\n",
            "   -------------------------- ------------- 10.4/15.8 MB 59.5 MB/s eta 0:00:01\n",
            "   --------------------------------- ------ 13.1/15.8 MB 59.5 MB/s eta 0:00:01\n",
            "   ---------------------------------------  15.6/15.8 MB 59.5 MB/s eta 0:00:01\n",
            "   ---------------------------------------  15.8/15.8 MB 59.5 MB/s eta 0:00:01\n",
            "   ---------------------------------------- 15.8/15.8 MB 43.7 MB/s eta 0:00:00\n",
            "Downloading pytz-2023.3.post1-py2.py3-none-any.whl (502 kB)\n",
            "   ---------------------------------------- 0.0/502.5 kB ? eta -:--:--\n",
            "   --------------------------------------- 502.5/502.5 kB 15.9 MB/s eta 0:00:00\n",
            "Installing collected packages: pytz, tzdata, numpy, pandas\n",
            "Successfully installed numpy-1.26.0 pandas-2.1.1 pytz-2023.3.post1 tzdata-2023.3\n"
          ]
        }
      ],
      "source": [
        "pip install pandas\n"
      ]
    },
    {
      "cell_type": "markdown",
      "metadata": {
        "id": "GcGX0czonz9B"
      },
      "source": [
        "Hoy en Chile existe un método de certificación para que las viñas puedan ser llamadas sustentables. Para obtener la certificación o también llamado sello verde, los productores de vino deben pasar por un proceso de evaluación.\n"
      ]
    },
    {
      "cell_type": "markdown",
      "metadata": {
        "id": "T2O-KBeFplUP"
      },
      "source": [
        "En nuestro país existen 800 viñas que se encargan de la producción de vino, pero solo un 11% de ellas están certificadas, las que equivalen a 88 bodegas."
      ]
    },
    {
      "cell_type": "markdown",
      "metadata": {
        "id": "YvMkJNRo0vlf"
      },
      "source": [
        "La información de las viñas certificadas es sacada de la siguiente página: https://www.sustainable.cl/vinas-certificadas/"
      ]
    },
    {
      "cell_type": "code",
      "execution_count": null,
      "metadata": {
        "colab": {
          "base_uri": "https://localhost:8080/"
        },
        "id": "lZRiO9IJrd4i",
        "outputId": "b579626f-d36b-4a26-eb19-bd5ab0f5f21d"
      },
      "outputs": [],
      "source": [
        "import csv\n",
        "\n",
        "import pandas as pd\n",
        "\n",
        "\n",
        "Certificadas = [[\"Arboleda\", \"Aresti\", \"Ballduzzi\", \"Baron Philippe\", \"Bisquertt\", \"Volcanes\", \"Bouchon\", \"Calcu\"],\n",
        "                [\"Caliterra\", \"Canepa\", \"Carmen\", \"Casa Marin\", \"Casa Rivas\", \"Casa Silva\", \"Casa Blanca\", \"Casas del Bosque\"],\n",
        "                [\"Centenaria\", \"Chocalan\", \"Concha y Toro\", \"ConoSur\", \"Cousiño-Macul\", \"Cremaschi\", \"Darwin\", \"De Martino\"],\n",
        "                [\"Porta\", \"Echeverria\", \"Emiliana\", \"Estampa\", \"Falernia\", \"Errazuriz\", \"Fray Leon\", \"Garcés\"],\n",
        "                [\"Haras de Pirque\", \"Indomita\", \"Invina\", \"La Playa\", \"La Ronciere\", \"Viña La Rosa\", \"Leyda\", \"Loncomilla\"],\n",
        "                [\"Los Boldos\", \"Los Nogales\", \"Los Vascos\", \"Lourdes\", \"LFE\", \"Maipo\", \"Maola\", \"Maquis\"],\n",
        "                [\"Matetic\", \"Maycas\", \"Mayu\", \"Miguel Torres\", \"Misiones de Rengo\", \"Montes\", \"Mont Grass\", \"Morandé\"],\n",
        "                [\"Nativa\", \"Ochagavia\", \"Odfjell\", \"Palo Alto\", \"Perez Cruz\", \"Quinta Maipo\", \"Requingua\", \"San Esteban\"],\n",
        "                [\"San Pedro\", \"Santa Alicia\", \"Santa Carolina\", \"Santa Cruz\", \"Santa Ema\", \"Santa Helena\", \"Santa Loma\", \"Santa Rita\"],\n",
        "                [\"Siegel\", \"Tierra Andina\", \"Sutil\", \"Tarapaca\", \"Terra Noble\", \"WTDF\", \"Tunquelen\", \"Undurraga\"],\n",
        "                [\"Valdivieso\", \"Ventisquero\", \"Veramonte\", \"VIK\", \"Viñamar\", \"VFC\", \"Vistamar\", \"Viu Manent\"]]\n",
        "\n",
        "\n",
        "ViñasCerti = pd.DataFrame(Certificadas)\n",
        "\n",
        "print(ViñasCerti)"
      ]
    },
    {
      "cell_type": "markdown",
      "metadata": {
        "id": "knJrocmc9N0k"
      },
      "source": [
        "El proceso para alcanzar la certificación es través de una evaluación y una encuesta para ver el nivel de cada viña en el enfoque sustentable."
      ]
    },
    {
      "cell_type": "markdown",
      "metadata": {
        "id": "Xllqr1B59N74"
      },
      "source": [
        "A continuación, podemos ver ciertas preguntas de la encuesta que se le realizaron a una de las viñas certificadas."
      ]
    },
    {
      "cell_type": "code",
      "execution_count": null,
      "metadata": {
        "colab": {
          "base_uri": "https://localhost:8080/"
        },
        "id": "t8Y4G0Vp928Q",
        "outputId": "156a0a54-3e6d-42f1-82a8-bec6fbc22c05"
      },
      "outputs": [
        {
          "name": "stdout",
          "output_type": "stream",
          "text": [
            "                           Item  Puntajes\n",
            "0                        Viñedo        16\n",
            "1                  Manejo Suelo        26\n",
            "2            Manejo Nutricional        48\n",
            "3                Manejo Malezas        48\n",
            "4        Manejo de Enfermedades        48\n",
            "5       Aplicación de Productos        24\n",
            "6   Almacenamiento de Productos        24\n",
            "7            Manejo de Residuos        36\n",
            "8               Manejo de Vigor        32\n",
            "9                         Riego        68\n",
            "10                      Energía        72\n",
            "11                 Capacitación        32\n",
            "12                        Salud        92\n",
            "13                Biodiversidad        20\n",
            "14              Sustentabilidad        12\n",
            "15                Reclamaciones        28\n"
          ]
        }
      ],
      "source": [
        "import csv\n",
        "\n",
        "import pandas as pd\n",
        "\n",
        "d = {\n",
        "    \"Item\": [\"Viñedo\", \"Manejo Suelo\", \"Manejo Nutricional\", \"Manejo Malezas\", \"Manejo de Enfermedades\", \"Aplicación de Productos\", \"Almacenamiento de Productos\", \"Manejo de Residuos\", \"Manejo de Vigor\", \"Riego\", \"Energía\", \"Capacitación\", \"Salud\", \"Biodiversidad\", \"Sustentabilidad\", \"Reclamaciones\"],\n",
        "    \"Puntajes\": [16, 26, 48, 48, 48, 24, 24, 36, 32, 68, 72, 32, 92, 20, 12, 28]\n",
        "}\n",
        "\n",
        "puntos_certificacion = pd.DataFrame(d)\n",
        "\n",
        "print(puntos_certificacion)"
      ]
    },
    {
      "cell_type": "code",
      "execution_count": null,
      "metadata": {
        "colab": {
          "base_uri": "https://localhost:8080/"
        },
        "id": "qngkTZ6jH1L5",
        "outputId": "0bcfc8c4-20f6-4031-e9f3-e9f99e7fcea3"
      },
      "outputs": [
        {
          "name": "stdout",
          "output_type": "stream",
          "text": [
            "                       Preguntas  Puntajes\n",
            "0              Existe Señalética         4\n",
            "1                  Plan de suelo         0\n",
            "2            Manejo entrehileras         6\n",
            "3           Monitoreo de malezas         0\n",
            "4            Monitoreo de plagas         0\n",
            "5        Evitar la contaminación         0\n",
            "6            Calibración equipos         0\n",
            "7  Áreas de alto valor ecológico         6\n",
            "8          Áreas de conservación         2\n"
          ]
        }
      ],
      "source": [
        "import pandas as pd\n",
        "\n",
        "datos = {\n",
        "    \"Preguntas\": [\"Existe Señalética\", \"Plan de suelo\", \"Manejo entrehileras\", \"Monitoreo de malezas\", \"Monitoreo de plagas\", \"Evitar la contaminación\", \"Calibración equipos\", \"Áreas de alto valor ecológico\", \"Áreas de conservación\"],\n",
        "    \"Puntajes\": [4, 0, 6, 0, 0, 0, 0, 6, 2]\n",
        "}\n",
        "\n",
        "tabla_certificacion = pd.DataFrame(datos)\n",
        "\n",
        "print(tabla_certificacion)\n",
        "\n"
      ]
    },
    {
      "cell_type": "markdown",
      "metadata": {
        "id": "sIDV0CFT_yhL"
      },
      "source": [
        "Al final, estos números se suman para ver si se alcanza el minimo de puntaje (700) para alcanzar la certificación. Estos son solo una parte de las preguntas y puntajes que se entregan."
      ]
    }
  ],
  "metadata": {
    "colab": {
      "provenance": []
    },
    "kernelspec": {
      "display_name": "Python 3",
      "name": "python3"
    },
    "language_info": {
      "codemirror_mode": {
        "name": "ipython",
        "version": 3
      },
      "file_extension": ".py",
      "mimetype": "text/x-python",
      "name": "python",
      "nbconvert_exporter": "python",
      "pygments_lexer": "ipython3",
      "version": "3.11.5"
    }
  },
  "nbformat": 4,
  "nbformat_minor": 0
}
